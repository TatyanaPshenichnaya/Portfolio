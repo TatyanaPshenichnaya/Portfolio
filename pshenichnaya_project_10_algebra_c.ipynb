{
 "cells": [
  {
   "cell_type": "markdown",
   "id": "a85dad9a",
   "metadata": {},
   "source": [
    "**Защита данные клиентов страховой компании**"
   ]
  },
  {
   "cell_type": "markdown",
   "id": "dfbccdd0",
   "metadata": {},
   "source": [
    "Вам нужно защитить данные клиентов страховой компании «Хоть потоп». Разработайте такой метод преобразования данных, чтобы по ним было сложно восстановить персональную информацию. Обоснуйте корректность его работы.  \n",
    "Нужно защитить данные, чтобы при преобразовании качество моделей машинного обучения не ухудшилось. Подбирать наилучшую модель не требуется."
   ]
  },
  {
   "cell_type": "markdown",
   "id": "818ea518",
   "metadata": {
    "toc": true
   },
   "source": [
    "<h1>Ход исследования<span class=\"tocSkip\"></span></h1>\n",
    "<div class=\"toc\"><ul class=\"toc-item\"><li><span><a href=\"#1.-Изучение-данных\" data-toc-modified-id=\"1.-Изучение-данных-1\">1. Изучение данных</a></span><ul class=\"toc-item\"><li><ul class=\"toc-item\"><li><span><a href=\"#1.1-Изучение-общей-информации\" data-toc-modified-id=\"1.1-Изучение-общей-информации-1.0.1\">1.1 Изучение общей информации</a></span></li></ul></li><li><span><a href=\"#1.2-Изучение-корреляции-данных\" data-toc-modified-id=\"1.2-Изучение-корреляции-данных-1.1\">1.2 Изучение корреляции данных</a></span></li><li><span><a href=\"#1.3-Исследование-баланса-классов\" data-toc-modified-id=\"1.3-Исследование-баланса-классов-1.2\">1.3 Исследование баланса классов</a></span></li></ul></li><li><span><a href=\"#2.-Подготовка-данных\" data-toc-modified-id=\"2.-Подготовка-данных-2\">2. Подготовка данных</a></span></li><li><span><a href=\"#3-Исследование-влияние-кодирования-данных-на-качество-модели\" data-toc-modified-id=\"3-Исследование-влияние-кодирования-данных-на-качество-модели-3\">3 Исследование влияние кодирования данных на качество модели</a></span><ul class=\"toc-item\"><li><span><a href=\"#3.1-Обучение-линейной-регрессии-без-кодирования\" data-toc-modified-id=\"3.1-Обучение-линейной-регрессии-без-кодирования-3.1\">3.1 Обучение линейной регрессии без кодирования</a></span></li><li><span><a href=\"#3.2-Признаки-умножим-на-обратимую-матрицу\" data-toc-modified-id=\"3.2-Признаки-умножим-на-обратимую-матрицу-3.2\">3.2 Признаки умножим на обратимую матрицу</a></span></li><li><span><a href=\"#3.3-Обучение-линейной-регрессии-с-кодированием\" data-toc-modified-id=\"3.3-Обучение-линейной-регрессии-с-кодированием-3.3\">3.3 Обучение линейной регрессии с кодированием</a></span></li><li><span><a href=\"#3.4-Исследование-связи-параметров-линейной-регрессии-в-исходной-задаче-и-в-преобразованной\" data-toc-modified-id=\"3.4-Исследование-связи-параметров-линейной-регрессии-в-исходной-задаче-и-в-преобразованной-3.4\">3.4 Исследование связи параметров линейной регрессии в исходной задаче и в преобразованной</a></span></li><li><span><a href=\"#3.5-Как-раскодировать-данные\" data-toc-modified-id=\"3.5-Как-раскодировать-данные-3.5\">3.5 Как раскодировать данные</a></span></li><li><span><a href=\"#3.6-Описание-алгоритма-кодировки\" data-toc-modified-id=\"3.6-Описание-алгоритма-кодировки-3.6\">3.6 Описание алгоритма кодировки</a></span></li><li><span><a href=\"#Вывод.\" data-toc-modified-id=\"Вывод.-3.7\">Вывод.</a></span></li></ul></li></ul></div>"
   ]
  },
  {
   "cell_type": "markdown",
   "id": "4052343a",
   "metadata": {},
   "source": [
    "# 1. Изучение данных"
   ]
  },
  {
   "cell_type": "markdown",
   "id": "9b26041e",
   "metadata": {},
   "source": [
    "### 1.1 Изучение общей информации"
   ]
  },
  {
   "cell_type": "code",
   "execution_count": 1,
   "id": "e1e8cadf",
   "metadata": {},
   "outputs": [],
   "source": [
    "import pandas as pd\n",
    "from sklearn.model_selection import train_test_split\n",
    "import numpy as np\n",
    "from sklearn.linear_model import LinearRegression\n",
    "from sklearn.metrics import r2_score\n",
    "#from sklearn.preprocessing import OrdinalEncoder\n",
    "#from sklearn.preprocessing import MinMaxScaler"
   ]
  },
  {
   "cell_type": "code",
   "execution_count": 2,
   "id": "8f711bec",
   "metadata": {},
   "outputs": [
    {
     "name": "stdout",
     "output_type": "stream",
     "text": [
      "Прочитано с локального диска\n"
     ]
    },
    {
     "data": {
      "text/html": [
       "<div>\n",
       "<style scoped>\n",
       "    .dataframe tbody tr th:only-of-type {\n",
       "        vertical-align: middle;\n",
       "    }\n",
       "\n",
       "    .dataframe tbody tr th {\n",
       "        vertical-align: top;\n",
       "    }\n",
       "\n",
       "    .dataframe thead th {\n",
       "        text-align: right;\n",
       "    }\n",
       "</style>\n",
       "<table border=\"1\" class=\"dataframe\">\n",
       "  <thead>\n",
       "    <tr style=\"text-align: right;\">\n",
       "      <th></th>\n",
       "      <th>Пол</th>\n",
       "      <th>Возраст</th>\n",
       "      <th>Зарплата</th>\n",
       "      <th>Члены семьи</th>\n",
       "      <th>Страховые выплаты</th>\n",
       "    </tr>\n",
       "  </thead>\n",
       "  <tbody>\n",
       "    <tr>\n",
       "      <th>0</th>\n",
       "      <td>1</td>\n",
       "      <td>41.0</td>\n",
       "      <td>49600.0</td>\n",
       "      <td>1</td>\n",
       "      <td>0</td>\n",
       "    </tr>\n",
       "    <tr>\n",
       "      <th>1</th>\n",
       "      <td>0</td>\n",
       "      <td>46.0</td>\n",
       "      <td>38000.0</td>\n",
       "      <td>1</td>\n",
       "      <td>1</td>\n",
       "    </tr>\n",
       "    <tr>\n",
       "      <th>2</th>\n",
       "      <td>0</td>\n",
       "      <td>29.0</td>\n",
       "      <td>21000.0</td>\n",
       "      <td>0</td>\n",
       "      <td>0</td>\n",
       "    </tr>\n",
       "    <tr>\n",
       "      <th>3</th>\n",
       "      <td>0</td>\n",
       "      <td>21.0</td>\n",
       "      <td>41700.0</td>\n",
       "      <td>2</td>\n",
       "      <td>0</td>\n",
       "    </tr>\n",
       "    <tr>\n",
       "      <th>4</th>\n",
       "      <td>1</td>\n",
       "      <td>28.0</td>\n",
       "      <td>26100.0</td>\n",
       "      <td>0</td>\n",
       "      <td>0</td>\n",
       "    </tr>\n",
       "  </tbody>\n",
       "</table>\n",
       "</div>"
      ],
      "text/plain": [
       "   Пол  Возраст  Зарплата  Члены семьи  Страховые выплаты\n",
       "0    1     41.0   49600.0            1                  0\n",
       "1    0     46.0   38000.0            1                  1\n",
       "2    0     29.0   21000.0            0                  0\n",
       "3    0     21.0   41700.0            2                  0\n",
       "4    1     28.0   26100.0            0                  0"
      ]
     },
     "metadata": {},
     "output_type": "display_data"
    }
   ],
   "source": [
    "try:\n",
    "    data = pd.read_csv('D:\\\\Хранилище информации\\\\DATA SCIENCE учеба\\\\projects\\\\insurance.csv', sep=',', encoding='utf-8')\n",
    "    print('Прочитано с локального диска')\n",
    "except:\n",
    "    data = pd.read_csv('https://code.s3.yandex.net//datasets//insurance.csv', sep=',')\n",
    "display(data.head())"
   ]
  },
  {
   "cell_type": "markdown",
   "id": "9ca66916",
   "metadata": {},
   "source": [
    "•\tПризнаки: пол, возраст и зарплата застрахованного, количество членов его семьи.  \n",
    "•\tЦелевой признак: количество страховых выплат клиенту за последние 5 лет."
   ]
  },
  {
   "cell_type": "code",
   "execution_count": 3,
   "id": "988bbf79",
   "metadata": {
    "scrolled": true
   },
   "outputs": [
    {
     "name": "stdout",
     "output_type": "stream",
     "text": [
      "<class 'pandas.core.frame.DataFrame'>\n",
      "RangeIndex: 5000 entries, 0 to 4999\n",
      "Data columns (total 5 columns):\n",
      " #   Column             Non-Null Count  Dtype  \n",
      "---  ------             --------------  -----  \n",
      " 0   Пол                5000 non-null   int64  \n",
      " 1   Возраст            5000 non-null   float64\n",
      " 2   Зарплата           5000 non-null   float64\n",
      " 3   Члены семьи        5000 non-null   int64  \n",
      " 4   Страховые выплаты  5000 non-null   int64  \n",
      "dtypes: float64(2), int64(3)\n",
      "memory usage: 195.4 KB\n"
     ]
    }
   ],
   "source": [
    "data.info()"
   ]
  },
  {
   "cell_type": "code",
   "execution_count": 4,
   "id": "a4e85844",
   "metadata": {},
   "outputs": [
    {
     "data": {
      "text/plain": [
       "153"
      ]
     },
     "execution_count": 4,
     "metadata": {},
     "output_type": "execute_result"
    }
   ],
   "source": [
    "# Проверим на дубликаты\n",
    "data.duplicated().sum()"
   ]
  },
  {
   "cell_type": "code",
   "execution_count": 5,
   "id": "e29c5485",
   "metadata": {},
   "outputs": [
    {
     "data": {
      "text/html": [
       "<div>\n",
       "<style scoped>\n",
       "    .dataframe tbody tr th:only-of-type {\n",
       "        vertical-align: middle;\n",
       "    }\n",
       "\n",
       "    .dataframe tbody tr th {\n",
       "        vertical-align: top;\n",
       "    }\n",
       "\n",
       "    .dataframe thead th {\n",
       "        text-align: right;\n",
       "    }\n",
       "</style>\n",
       "<table border=\"1\" class=\"dataframe\">\n",
       "  <thead>\n",
       "    <tr style=\"text-align: right;\">\n",
       "      <th></th>\n",
       "      <th>Пол</th>\n",
       "      <th>Возраст</th>\n",
       "      <th>Зарплата</th>\n",
       "      <th>Члены семьи</th>\n",
       "      <th>Страховые выплаты</th>\n",
       "    </tr>\n",
       "  </thead>\n",
       "  <tbody>\n",
       "    <tr>\n",
       "      <th>count</th>\n",
       "      <td>5000.000000</td>\n",
       "      <td>5000.000000</td>\n",
       "      <td>5000.000000</td>\n",
       "      <td>5000.000000</td>\n",
       "      <td>5000.000000</td>\n",
       "    </tr>\n",
       "    <tr>\n",
       "      <th>mean</th>\n",
       "      <td>0.499000</td>\n",
       "      <td>30.952800</td>\n",
       "      <td>39916.360000</td>\n",
       "      <td>1.194200</td>\n",
       "      <td>0.148000</td>\n",
       "    </tr>\n",
       "    <tr>\n",
       "      <th>std</th>\n",
       "      <td>0.500049</td>\n",
       "      <td>8.440807</td>\n",
       "      <td>9900.083569</td>\n",
       "      <td>1.091387</td>\n",
       "      <td>0.463183</td>\n",
       "    </tr>\n",
       "    <tr>\n",
       "      <th>min</th>\n",
       "      <td>0.000000</td>\n",
       "      <td>18.000000</td>\n",
       "      <td>5300.000000</td>\n",
       "      <td>0.000000</td>\n",
       "      <td>0.000000</td>\n",
       "    </tr>\n",
       "    <tr>\n",
       "      <th>25%</th>\n",
       "      <td>0.000000</td>\n",
       "      <td>24.000000</td>\n",
       "      <td>33300.000000</td>\n",
       "      <td>0.000000</td>\n",
       "      <td>0.000000</td>\n",
       "    </tr>\n",
       "    <tr>\n",
       "      <th>50%</th>\n",
       "      <td>0.000000</td>\n",
       "      <td>30.000000</td>\n",
       "      <td>40200.000000</td>\n",
       "      <td>1.000000</td>\n",
       "      <td>0.000000</td>\n",
       "    </tr>\n",
       "    <tr>\n",
       "      <th>75%</th>\n",
       "      <td>1.000000</td>\n",
       "      <td>37.000000</td>\n",
       "      <td>46600.000000</td>\n",
       "      <td>2.000000</td>\n",
       "      <td>0.000000</td>\n",
       "    </tr>\n",
       "    <tr>\n",
       "      <th>max</th>\n",
       "      <td>1.000000</td>\n",
       "      <td>65.000000</td>\n",
       "      <td>79000.000000</td>\n",
       "      <td>6.000000</td>\n",
       "      <td>5.000000</td>\n",
       "    </tr>\n",
       "  </tbody>\n",
       "</table>\n",
       "</div>"
      ],
      "text/plain": [
       "               Пол      Возраст      Зарплата  Члены семьи  Страховые выплаты\n",
       "count  5000.000000  5000.000000   5000.000000  5000.000000        5000.000000\n",
       "mean      0.499000    30.952800  39916.360000     1.194200           0.148000\n",
       "std       0.500049     8.440807   9900.083569     1.091387           0.463183\n",
       "min       0.000000    18.000000   5300.000000     0.000000           0.000000\n",
       "25%       0.000000    24.000000  33300.000000     0.000000           0.000000\n",
       "50%       0.000000    30.000000  40200.000000     1.000000           0.000000\n",
       "75%       1.000000    37.000000  46600.000000     2.000000           0.000000\n",
       "max       1.000000    65.000000  79000.000000     6.000000           5.000000"
      ]
     },
     "execution_count": 5,
     "metadata": {},
     "output_type": "execute_result"
    }
   ],
   "source": [
    "# посмотрим на распределение данных\n",
    "data.describe()"
   ]
  },
  {
   "cell_type": "code",
   "execution_count": 6,
   "id": "f1e0c063",
   "metadata": {},
   "outputs": [
    {
     "data": {
      "text/html": [
       "<div>\n",
       "<style scoped>\n",
       "    .dataframe tbody tr th:only-of-type {\n",
       "        vertical-align: middle;\n",
       "    }\n",
       "\n",
       "    .dataframe tbody tr th {\n",
       "        vertical-align: top;\n",
       "    }\n",
       "\n",
       "    .dataframe thead th {\n",
       "        text-align: right;\n",
       "    }\n",
       "</style>\n",
       "<table border=\"1\" class=\"dataframe\">\n",
       "  <thead>\n",
       "    <tr style=\"text-align: right;\">\n",
       "      <th></th>\n",
       "      <th>sex</th>\n",
       "      <th>age</th>\n",
       "      <th>salary</th>\n",
       "      <th>family_memebers</th>\n",
       "      <th>insuarance_payoff</th>\n",
       "    </tr>\n",
       "  </thead>\n",
       "  <tbody>\n",
       "    <tr>\n",
       "      <th>0</th>\n",
       "      <td>1</td>\n",
       "      <td>41.0</td>\n",
       "      <td>49600.0</td>\n",
       "      <td>1</td>\n",
       "      <td>0</td>\n",
       "    </tr>\n",
       "    <tr>\n",
       "      <th>1</th>\n",
       "      <td>0</td>\n",
       "      <td>46.0</td>\n",
       "      <td>38000.0</td>\n",
       "      <td>1</td>\n",
       "      <td>1</td>\n",
       "    </tr>\n",
       "    <tr>\n",
       "      <th>2</th>\n",
       "      <td>0</td>\n",
       "      <td>29.0</td>\n",
       "      <td>21000.0</td>\n",
       "      <td>0</td>\n",
       "      <td>0</td>\n",
       "    </tr>\n",
       "    <tr>\n",
       "      <th>3</th>\n",
       "      <td>0</td>\n",
       "      <td>21.0</td>\n",
       "      <td>41700.0</td>\n",
       "      <td>2</td>\n",
       "      <td>0</td>\n",
       "    </tr>\n",
       "    <tr>\n",
       "      <th>4</th>\n",
       "      <td>1</td>\n",
       "      <td>28.0</td>\n",
       "      <td>26100.0</td>\n",
       "      <td>0</td>\n",
       "      <td>0</td>\n",
       "    </tr>\n",
       "  </tbody>\n",
       "</table>\n",
       "</div>"
      ],
      "text/plain": [
       "   sex   age   salary  family_memebers  insuarance_payoff\n",
       "0    1  41.0  49600.0                1                  0\n",
       "1    0  46.0  38000.0                1                  1\n",
       "2    0  29.0  21000.0                0                  0\n",
       "3    0  21.0  41700.0                2                  0\n",
       "4    1  28.0  26100.0                0                  0"
      ]
     },
     "execution_count": 6,
     "metadata": {},
     "output_type": "execute_result"
    }
   ],
   "source": [
    "# переименуем колонки\n",
    "data = data.rename(columns = {'Пол':'sex', 'Возраст':'age', 'Зарплата':'salary', 'Члены семьи':'family_memebers',\n",
    "                              'Страховые выплаты':'insuarance_payoff'})\n",
    "data.head()"
   ]
  },
  {
   "cell_type": "code",
   "execution_count": 7,
   "id": "35cc87c2",
   "metadata": {
    "scrolled": true
   },
   "outputs": [
    {
     "name": "stdout",
     "output_type": "stream",
     "text": [
      "<class 'pandas.core.frame.DataFrame'>\n",
      "RangeIndex: 5000 entries, 0 to 4999\n",
      "Data columns (total 5 columns):\n",
      " #   Column             Non-Null Count  Dtype\n",
      "---  ------             --------------  -----\n",
      " 0   sex                5000 non-null   int32\n",
      " 1   age                5000 non-null   int32\n",
      " 2   salary             5000 non-null   int32\n",
      " 3   family_memebers    5000 non-null   int32\n",
      " 4   insuarance_payoff  5000 non-null   int32\n",
      "dtypes: int32(5)\n",
      "memory usage: 97.8 KB\n"
     ]
    }
   ],
   "source": [
    "# Преобразуем в целочисленный формат\n",
    "for column in data.columns:\n",
    "    data[column] = data[column].astype('int32')\n",
    "data.info()   "
   ]
  },
  {
   "cell_type": "markdown",
   "id": "1a042610",
   "metadata": {},
   "source": [
    "Имеем: 5000 строк записей, с 5 колонками. Пропусков нет, имеются дубликаты, но т.к. это скорее вспего совпадения, удалять их не будем."
   ]
  },
  {
   "cell_type": "markdown",
   "id": "7bb21f17",
   "metadata": {},
   "source": [
    "## 1.2 Изучение корреляции данных"
   ]
  },
  {
   "cell_type": "code",
   "execution_count": 8,
   "id": "7f7b2888",
   "metadata": {},
   "outputs": [
    {
     "data": {
      "text/html": [
       "<div>\n",
       "<style scoped>\n",
       "    .dataframe tbody tr th:only-of-type {\n",
       "        vertical-align: middle;\n",
       "    }\n",
       "\n",
       "    .dataframe tbody tr th {\n",
       "        vertical-align: top;\n",
       "    }\n",
       "\n",
       "    .dataframe thead th {\n",
       "        text-align: right;\n",
       "    }\n",
       "</style>\n",
       "<table border=\"1\" class=\"dataframe\">\n",
       "  <thead>\n",
       "    <tr style=\"text-align: right;\">\n",
       "      <th></th>\n",
       "      <th>sex</th>\n",
       "      <th>age</th>\n",
       "      <th>salary</th>\n",
       "      <th>family_memebers</th>\n",
       "      <th>insuarance_payoff</th>\n",
       "    </tr>\n",
       "  </thead>\n",
       "  <tbody>\n",
       "    <tr>\n",
       "      <th>sex</th>\n",
       "      <td>1.000000</td>\n",
       "      <td>0.002074</td>\n",
       "      <td>0.014910</td>\n",
       "      <td>-0.008991</td>\n",
       "      <td>0.010140</td>\n",
       "    </tr>\n",
       "    <tr>\n",
       "      <th>age</th>\n",
       "      <td>0.002074</td>\n",
       "      <td>1.000000</td>\n",
       "      <td>-0.019093</td>\n",
       "      <td>-0.006692</td>\n",
       "      <td>0.651030</td>\n",
       "    </tr>\n",
       "    <tr>\n",
       "      <th>salary</th>\n",
       "      <td>0.014910</td>\n",
       "      <td>-0.019093</td>\n",
       "      <td>1.000000</td>\n",
       "      <td>-0.030296</td>\n",
       "      <td>-0.014963</td>\n",
       "    </tr>\n",
       "    <tr>\n",
       "      <th>family_memebers</th>\n",
       "      <td>-0.008991</td>\n",
       "      <td>-0.006692</td>\n",
       "      <td>-0.030296</td>\n",
       "      <td>1.000000</td>\n",
       "      <td>-0.036290</td>\n",
       "    </tr>\n",
       "    <tr>\n",
       "      <th>insuarance_payoff</th>\n",
       "      <td>0.010140</td>\n",
       "      <td>0.651030</td>\n",
       "      <td>-0.014963</td>\n",
       "      <td>-0.036290</td>\n",
       "      <td>1.000000</td>\n",
       "    </tr>\n",
       "  </tbody>\n",
       "</table>\n",
       "</div>"
      ],
      "text/plain": [
       "                        sex       age    salary  family_memebers  \\\n",
       "sex                1.000000  0.002074  0.014910        -0.008991   \n",
       "age                0.002074  1.000000 -0.019093        -0.006692   \n",
       "salary             0.014910 -0.019093  1.000000        -0.030296   \n",
       "family_memebers   -0.008991 -0.006692 -0.030296         1.000000   \n",
       "insuarance_payoff  0.010140  0.651030 -0.014963        -0.036290   \n",
       "\n",
       "                   insuarance_payoff  \n",
       "sex                         0.010140  \n",
       "age                         0.651030  \n",
       "salary                     -0.014963  \n",
       "family_memebers            -0.036290  \n",
       "insuarance_payoff           1.000000  "
      ]
     },
     "execution_count": 8,
     "metadata": {},
     "output_type": "execute_result"
    }
   ],
   "source": [
    "data.corr()"
   ]
  },
  {
   "cell_type": "markdown",
   "id": "f4e6fb6f",
   "metadata": {},
   "source": [
    "Самая большая корреляция обнаружена у параметров возраста и страховых выплат - 65%."
   ]
  },
  {
   "cell_type": "markdown",
   "id": "2c5c6eec",
   "metadata": {},
   "source": [
    "## 1.3 Исследование баланса классов"
   ]
  },
  {
   "cell_type": "markdown",
   "id": "66397834",
   "metadata": {},
   "source": [
    "Выведем количество и процентное значение целевого признака"
   ]
  },
  {
   "cell_type": "code",
   "execution_count": 9,
   "id": "cb68d330",
   "metadata": {},
   "outputs": [],
   "source": [
    "series = data['insuarance_payoff'].value_counts()"
   ]
  },
  {
   "cell_type": "code",
   "execution_count": 10,
   "id": "9838dbfc",
   "metadata": {},
   "outputs": [
    {
     "data": {
      "text/html": [
       "<div>\n",
       "<style scoped>\n",
       "    .dataframe tbody tr th:only-of-type {\n",
       "        vertical-align: middle;\n",
       "    }\n",
       "\n",
       "    .dataframe tbody tr th {\n",
       "        vertical-align: top;\n",
       "    }\n",
       "\n",
       "    .dataframe thead th {\n",
       "        text-align: right;\n",
       "    }\n",
       "</style>\n",
       "<table border=\"1\" class=\"dataframe\">\n",
       "  <thead>\n",
       "    <tr style=\"text-align: right;\">\n",
       "      <th></th>\n",
       "      <th>insuarance_payoff</th>\n",
       "      <th>share</th>\n",
       "    </tr>\n",
       "  </thead>\n",
       "  <tbody>\n",
       "    <tr>\n",
       "      <th>0</th>\n",
       "      <td>4436</td>\n",
       "      <td>88.72</td>\n",
       "    </tr>\n",
       "    <tr>\n",
       "      <th>1</th>\n",
       "      <td>423</td>\n",
       "      <td>8.46</td>\n",
       "    </tr>\n",
       "    <tr>\n",
       "      <th>2</th>\n",
       "      <td>115</td>\n",
       "      <td>2.30</td>\n",
       "    </tr>\n",
       "    <tr>\n",
       "      <th>3</th>\n",
       "      <td>18</td>\n",
       "      <td>0.36</td>\n",
       "    </tr>\n",
       "    <tr>\n",
       "      <th>4</th>\n",
       "      <td>7</td>\n",
       "      <td>0.14</td>\n",
       "    </tr>\n",
       "    <tr>\n",
       "      <th>5</th>\n",
       "      <td>1</td>\n",
       "      <td>0.02</td>\n",
       "    </tr>\n",
       "  </tbody>\n",
       "</table>\n",
       "</div>"
      ],
      "text/plain": [
       "   insuarance_payoff  share\n",
       "0               4436  88.72\n",
       "1                423   8.46\n",
       "2                115   2.30\n",
       "3                 18   0.36\n",
       "4                  7   0.14\n",
       "5                  1   0.02"
      ]
     },
     "execution_count": 10,
     "metadata": {},
     "output_type": "execute_result"
    }
   ],
   "source": [
    "df = pd.DataFrame([series])\n",
    "df = df.T\n",
    "df['share'] = df['insuarance_payoff'] / len(data) * 100\n",
    "df"
   ]
  },
  {
   "cell_type": "markdown",
   "id": "772f2ac5",
   "metadata": {},
   "source": [
    "Как видно, 88% наблюдений целевого признака являются 0."
   ]
  },
  {
   "cell_type": "markdown",
   "id": "eab4a3cd",
   "metadata": {},
   "source": [
    "# 2. Подготовка данных"
   ]
  },
  {
   "cell_type": "markdown",
   "id": "c86c3334",
   "metadata": {},
   "source": [
    "Разделим данные на выборки в отношении 3 к 1."
   ]
  },
  {
   "cell_type": "code",
   "execution_count": 11,
   "id": "aaacfb95",
   "metadata": {},
   "outputs": [
    {
     "name": "stdout",
     "output_type": "stream",
     "text": [
      "Размер обучающей выборки: (3750, 4)\n",
      "Размер валидационной выборки: (1250, 4)\n"
     ]
    }
   ],
   "source": [
    "target = data['insuarance_payoff']\n",
    "features = data.drop('insuarance_payoff', axis=1)\n",
    "features_train, features_valid, target_train, target_valid = train_test_split(\n",
    "    features, target, test_size=0.25, random_state=12345)\n",
    "print(f'Размер обучающей выборки: {features_train.shape}')\n",
    "print(f'Размер валидационной выборки: {features_valid.shape}')"
   ]
  },
  {
   "cell_type": "code",
   "execution_count": 12,
   "id": "7ce77e7a",
   "metadata": {},
   "outputs": [
    {
     "name": "stdout",
     "output_type": "stream",
     "text": [
      "      sex  age  salary  family_memebers\n",
      "3369    1   43   36200                1\n",
      "1441    1   34   57600                0\n",
      "571     0   32   41100                1\n",
      "225     0   36   45100                1\n",
      "2558    0   33   50600                2\n"
     ]
    }
   ],
   "source": [
    "print(features_train.head())"
   ]
  },
  {
   "cell_type": "markdown",
   "id": "085bf93f",
   "metadata": {},
   "source": [
    "# 3 Исследование влияние кодирования данных на качество модели"
   ]
  },
  {
   "cell_type": "markdown",
   "id": "d840d7b8",
   "metadata": {},
   "source": [
    "## 3.1 Обучение линейной регрессии без кодирования"
   ]
  },
  {
   "cell_type": "code",
   "execution_count": 13,
   "id": "0e192984",
   "metadata": {},
   "outputs": [
    {
     "name": "stdout",
     "output_type": "stream",
     "text": [
      "R2 = 0.43522756840832744\n"
     ]
    }
   ],
   "source": [
    "model = LinearRegression()\n",
    "model.fit(features_train, target_train)\n",
    "predicted_valid = model.predict(features_valid)\n",
    "\n",
    "print(\"R2 =\", r2_score(target_valid,predicted_valid))"
   ]
  },
  {
   "cell_type": "markdown",
   "id": "706d4cd2",
   "metadata": {},
   "source": [
    "## 3.2 Признаки умножим на обратимую матрицу"
   ]
  },
  {
   "cell_type": "markdown",
   "id": "282e404a",
   "metadata": {},
   "source": [
    "Обратимая матрица - это матрица, у которой есть обратная. Результат умножения обратной матрицы на обратимую - единичная матрица.  Умножение матрицы на матрицу возможно, если ширина первой матрицы  равна высоте второй матрицы. Наша первая матрица - это признаки размером 5000 на 4, в результате хотим получить закодированные признаки - это матрицу размером тоже 5000 на 4, значит умножать будем на матрицу 4 на 4.  \n",
    "Подберём такую обратимую матрицу."
   ]
  },
  {
   "cell_type": "code",
   "execution_count": 14,
   "id": "66b33cbb",
   "metadata": {},
   "outputs": [
    {
     "data": {
      "text/plain": [
       "array([[-0.19726859,  0.02579666, -0.08345979,  0.28679818],\n",
       "       [-0.07934099,  0.01257316,  0.18621288, -0.04508996],\n",
       "       [ 0.12117928, -0.03013223,  0.12269673, -0.13331888],\n",
       "       [ 0.18751355,  0.02492955, -0.4756124 ,  0.11749404]])"
      ]
     },
     "execution_count": 14,
     "metadata": {},
     "output_type": "execute_result"
    }
   ],
   "source": [
    "P = np.array([[5, 9, 13, 6],\n",
    "              [1, 47, 3, 19],\n",
    "             [4, 7, 8, 2],\n",
    "             [8, 4, 11, 3],])\n",
    "b =np.linalg.inv(P) # вычислим обратную матрицу\n",
    "b"
   ]
  },
  {
   "cell_type": "markdown",
   "id": "cdc590ad",
   "metadata": {},
   "source": [
    "На обратимость можно проверить еще вот так: Если определитель квадратной матрицы P не равен нулю, значит у нее есть обратная."
   ]
  },
  {
   "cell_type": "code",
   "execution_count": 15,
   "id": "b7fd70b9",
   "metadata": {},
   "outputs": [
    {
     "data": {
      "text/plain": [
       "array([[ 1.00000000e+00,  0.00000000e+00,  0.00000000e+00,\n",
       "        -1.11022302e-16],\n",
       "       [-2.77555756e-16,  1.00000000e+00,  1.11022302e-16,\n",
       "        -2.77555756e-17],\n",
       "       [-1.11022302e-16,  0.00000000e+00,  1.00000000e+00,\n",
       "         0.00000000e+00],\n",
       "       [-1.66533454e-16,  2.77555756e-17,  0.00000000e+00,\n",
       "         1.00000000e+00]])"
      ]
     },
     "execution_count": 15,
     "metadata": {},
     "output_type": "execute_result"
    }
   ],
   "source": [
    "P.dot(b) # проверим точность обратной матрицы"
   ]
  },
  {
   "cell_type": "markdown",
   "id": "8a8f5eba",
   "metadata": {},
   "source": [
    "Умножим признаки на обратимую матрицу."
   ]
  },
  {
   "cell_type": "code",
   "execution_count": 16,
   "id": "534ee723",
   "metadata": {
    "scrolled": true
   },
   "outputs": [
    {
     "data": {
      "text/plain": [
       "array([[198454, 349140, 396947,  99988],\n",
       "       [152054, 268166, 304149,  76877],\n",
       "       [ 84029, 148363, 168087,  42551],\n",
       "       ...,\n",
       "       [135636, 238248, 271282,  68186],\n",
       "       [130851, 229955, 261712,  65833],\n",
       "       [162441, 285529, 324908,  81741]])"
      ]
     },
     "execution_count": 16,
     "metadata": {},
     "output_type": "execute_result"
    }
   ],
   "source": [
    "features_coded = np.array(features).dot(P)\n",
    "features_coded"
   ]
  },
  {
   "cell_type": "markdown",
   "id": "3d3535ec",
   "metadata": {},
   "source": [
    "Для генерации полностью случайной матрицы размера 4*4 можно воспльзоваться следующим генератором:"
   ]
  },
  {
   "cell_type": "code",
   "execution_count": 17,
   "id": "0b44278c",
   "metadata": {
    "scrolled": true
   },
   "outputs": [
    {
     "data": {
      "text/plain": [
       "array([[-1.3114606 , -0.27556422,  0.5636795 , -0.42583326],\n",
       "       [ 0.64890949, -1.23795684, -0.1296062 , -0.27379265],\n",
       "       [-0.12773987,  1.60050697, -1.69752333, -1.83156818],\n",
       "       [-0.92701498,  0.04551115, -0.21600097,  0.32146723]])"
      ]
     },
     "execution_count": 17,
     "metadata": {},
     "output_type": "execute_result"
    }
   ],
   "source": [
    "np.random.normal(size=(4, 4))"
   ]
  },
  {
   "cell_type": "code",
   "execution_count": 18,
   "id": "b0616776",
   "metadata": {},
   "outputs": [
    {
     "data": {
      "text/plain": [
       "array([[0.5488135 , 0.71518937, 0.60276338, 0.54488318],\n",
       "       [0.4236548 , 0.64589411, 0.43758721, 0.891773  ],\n",
       "       [0.96366276, 0.38344152, 0.79172504, 0.52889492],\n",
       "       [0.56804456, 0.92559664, 0.07103606, 0.0871293 ]])"
      ]
     },
     "execution_count": 18,
     "metadata": {},
     "output_type": "execute_result"
    }
   ],
   "source": [
    "np.random.seed(0)        # random.seed(0) позволит генерировать одну и ту же случайную матрицу\n",
    "m = np.random.rand(4,4)   \n",
    "m"
   ]
  },
  {
   "cell_type": "markdown",
   "id": "c7069f39",
   "metadata": {},
   "source": [
    "## 3.3 Обучение линейной регрессии с кодированием"
   ]
  },
  {
   "cell_type": "code",
   "execution_count": 20,
   "id": "4c5f8e96",
   "metadata": {},
   "outputs": [
    {
     "name": "stdout",
     "output_type": "stream",
     "text": [
      "Размер обучающей выборки: (3750, 4)\n",
      "Размер валидационной выборки: (1250, 4)\n"
     ]
    }
   ],
   "source": [
    "features_train, features_valid, target_train, target_valid = train_test_split(\n",
    "    features_coded, target, test_size=0.25, random_state=12345)\n",
    "print(f'Размер обучающей выборки: {features_train.shape}')\n",
    "print(f'Размер валидационной выборки: {features_valid.shape}')"
   ]
  },
  {
   "cell_type": "code",
   "execution_count": 21,
   "id": "e5403e1c",
   "metadata": {},
   "outputs": [
    {
     "name": "stdout",
     "output_type": "stream",
     "text": [
      "R2 = 0.43522756840832666\n"
     ]
    }
   ],
   "source": [
    "model = LinearRegression()\n",
    "model.fit(features_train, target_train)\n",
    "predicted_valid = model.predict(features_valid)\n",
    "\n",
    "print(\"R2 =\", r2_score(target_valid,predicted_valid))"
   ]
  },
  {
   "cell_type": "markdown",
   "id": "ea0f523e",
   "metadata": {},
   "source": [
    "Как видно, качество линейной регрессии не изменилось.  \n",
    "Разебём, почему так получилось. "
   ]
  },
  {
   "cell_type": "markdown",
   "id": "cf6db926",
   "metadata": {},
   "source": [
    "## 3.4 Исследование связи параметров линейной регрессии в исходной задаче и в преобразованной"
   ]
  },
  {
   "cell_type": "markdown",
   "id": "04971601",
   "metadata": {},
   "source": [
    "Задача алгоритма обучения линейной регрессии сводится к уравнению: $a=Xw$, где $а$ - целевые признаки, $Х$ - обучающие признаки в виде матрицы, $w$ - искомый вектор предсказаний. Нужно найти такую $w$, чтобы функция потерь была минимальна.  \n",
    "Веса $w$ вычисляются по формуле: $w = (Х^Т  Х)^{-1}   Х^Т  y$"
   ]
  },
  {
   "cell_type": "markdown",
   "id": "8efd44c0",
   "metadata": {},
   "source": [
    "При умножении признаков на матрицу $Р$ получаем новые веса $w_1$:  \n",
    "$w_1 =  ( (ХP)^Т  (ХP))^{-1}  (ХP)^Т  y$  "
   ]
  },
  {
   "cell_type": "markdown",
   "id": "1ac6c477",
   "metadata": {},
   "source": [
    "Для того, чтобы умножение матриц было возможно, из размеры должны быть согласованны. Обозначим размеры матриц в уравнении как:  \n",
    "$m$ - количество строк матрицы признаков (в наших данных $m$=5000)  \n",
    "$n$ - количество столбцов матрицы признаков (в наших данных $n$=4)  \n",
    "$k$ - количество столбцов матрицы целевого признака (в наших данных $k$=1)"
   ]
  },
  {
   "cell_type": "markdown",
   "id": "db36306f",
   "metadata": {},
   "source": [
    "$w_1 =  ( (ХP)^Т  (ХP))^{-1}  (ХP)^Т  y$     \n",
    "Размеры матриц:     \n",
    "$Х$ - $mxn$  \\\n",
    "$Р$ - $nxn$  \\\n",
    "$y$ - $mxk$  \\\n",
    "$X^T$ - $nxm$ - транспонированная матрица от $X$"
   ]
  },
  {
   "cell_type": "markdown",
   "id": "c4793062",
   "metadata": {},
   "source": [
    "$((ХP)^Т (ХP))^{-1} (ХP)^Т  y $ =   \n",
    "\n",
    "Воспользуемся свойством матриц: $(АВ)^T = В^T А^T$ :     \n",
    " \n",
    " = $(P^Т Х^Т ХP )^{-1} (ХP)^Т  y$ \n",
    "\n",
    " \n",
    "Воспользуемся свойством матриц: $(АВC)^{-1} = C^{-1} В^{-1}  А^{-1}$ , следя за тем, чтобы все матрицы, для которых ищутся обратые - операция $^{-1}$, были квадратными:\n",
    "\n",
    " = $ P ^{-1}  (Х^Т Х)^{-1} (P^Т)^{-1} (ХP)^Т  y$ = \n",
    " \n",
    "Такая операция возможна, т.к. $P$, $P^Т$ - квадратные матрицы по условию задачи, и $(Х^Т Х)$ - тоже квадратная матрица. \\\n",
    " \n",
    "Воспользуемся свойством матриц: $(АВ)^T = В^T А^T$:   \n",
    " \n",
    " =  $ P ^{-1}  (Х^Т Х)^{-1} (P^Т)^{-1} P^Т X^Т y$ =   \n",
    " \n",
    " \n",
    "Укажем размерность матриц этой строки:\n",
    "\n",
    "$(nxn)  (nxm * mxn)^{-1}   (nxn)^{-1}    (nxn)   (nxm)  (mxk)$   \n",
    "\n",
    "Как видно, все матрицы в выражении согласованы.\n",
    "\n",
    "В уравнении выражение $(P^Т)^{-1} P^T  = Е$ , что даёт при умножении любой матрицы её саму , при условии согласования размера, размер получившейся матрицы $Е$ будет $n*n$, что позволяет умножить ее на стоящий справа член:\n",
    "\n",
    "=  $ P ^{-1}  (Х^Т Х)^{-1} E X^Т y$ = \n",
    "\n",
    "=  $ P ^{-1}  (Х^Т Х)^{-1}  X^Т y$ = \n",
    "\n",
    "\n",
    "=  $ P ^{-1}  w$  .\n",
    "\n",
    "Получаем:  \n",
    "$w_1 = P ^{-1}  w $"
   ]
  },
  {
   "cell_type": "markdown",
   "id": "eb5fdee5",
   "metadata": {},
   "source": [
    "Для уравнения регрессии с закодированными признаками получаем:  <br>\n",
    "$a = X  Р  w_1$  \n",
    "Подставим выведенное выражение $w_1 = P ^{-1}  w $:  \n",
    "$a = X  Р  P ^{-1} w$  \n",
    "$a = X  Е  w$  \n",
    "$a = X   w$"
   ]
  },
  {
   "cell_type": "markdown",
   "id": "3be3c401",
   "metadata": {},
   "source": [
    "Получено доказательство того, что умножение признаков на матрицу не влияет на качество линейной регресси."
   ]
  },
  {
   "cell_type": "markdown",
   "id": "db48ab55",
   "metadata": {},
   "source": [
    "## 3.5 Как раскодировать данные"
   ]
  },
  {
   "cell_type": "markdown",
   "id": "6f1c2b63",
   "metadata": {},
   "source": [
    "Чтобы извлечь исходные данные из закодировнных, понадобиться решить матричное уравнение такого вида: X*a = c, где X - это признаки, подвергнутые кодировке, а - это наша обратимая матрица а, с - это закодированные данные.  \n",
    "Матричное уравнение X*a = c решается так:\n",
    "X*a * а(-1) = c * а(-1), где  а(-1) - обратная матрица к матрице а. Т.к. a * а(-1) = Е, а Х*Е = Х, получим:\n",
    "X = c * а(-1)"
   ]
  },
  {
   "cell_type": "code",
   "execution_count": 22,
   "id": "d91252b1",
   "metadata": {},
   "outputs": [
    {
     "data": {
      "text/plain": [
       "array([[ 1.00000000e+00,  4.10000000e+01,  4.96000000e+04,\n",
       "         1.00000000e+00],\n",
       "       [-1.81898940e-12,  4.60000000e+01,  3.80000000e+04,\n",
       "         1.00000000e+00],\n",
       "       [-1.36424205e-12,  2.90000000e+01,  2.10000000e+04,\n",
       "         9.09494702e-13],\n",
       "       ...,\n",
       "       [-4.54747351e-12,  2.00000000e+01,  3.39000000e+04,\n",
       "         2.00000000e+00],\n",
       "       [ 1.00000000e+00,  2.20000000e+01,  3.27000000e+04,\n",
       "         3.00000000e+00],\n",
       "       [ 1.00000000e+00,  2.80000000e+01,  4.06000000e+04,\n",
       "         1.00000000e+00]])"
      ]
     },
     "execution_count": 22,
     "metadata": {},
     "output_type": "execute_result"
    }
   ],
   "source": [
    "features_coded.dot(b)"
   ]
  },
  {
   "cell_type": "markdown",
   "id": "42c1059a",
   "metadata": {},
   "source": [
    "Мы можем убедиться, что полученные данные совпадают с исходными."
   ]
  },
  {
   "cell_type": "markdown",
   "id": "6897074d",
   "metadata": {},
   "source": [
    "## 3.6 Описание алгоритма кодировки"
   ]
  },
  {
   "cell_type": "markdown",
   "id": "f4b69725",
   "metadata": {},
   "source": [
    " 1. Генерируем матрицу размером n*n, где n - это количество признаков для обучения модели\n",
    " 2. Умножаем матрицу на признаки\n",
    " 3. Разделяем данные на обучающую и валидационную выборки.\n",
    " 4. Обучаем модель"
   ]
  },
  {
   "cell_type": "markdown",
   "id": "bb2b902f",
   "metadata": {},
   "source": [
    "## Вывод. \n",
    "В данном проекте мы проверили на данных и обосновали теоретически утверждение о том, что при умножении признаков на матрицу качество алгоритма обучения не изменится. "
   ]
  }
 ],
 "metadata": {
  "ExecuteTimeLog": [
   {
    "duration": 1224,
    "start_time": "2022-06-16T09:55:40.176Z"
   },
   {
    "duration": 120,
    "start_time": "2022-06-16T09:55:41.402Z"
   },
   {
    "duration": 11,
    "start_time": "2022-06-16T09:55:41.523Z"
   },
   {
    "duration": 9,
    "start_time": "2022-06-16T09:55:41.536Z"
   },
   {
    "duration": 23,
    "start_time": "2022-06-16T09:55:41.547Z"
   },
   {
    "duration": 10,
    "start_time": "2022-06-16T09:55:41.571Z"
   },
   {
    "duration": 13,
    "start_time": "2022-06-16T09:55:41.583Z"
   },
   {
    "duration": 35,
    "start_time": "2022-06-16T09:55:41.597Z"
   },
   {
    "duration": 4,
    "start_time": "2022-06-16T09:55:41.633Z"
   },
   {
    "duration": 14,
    "start_time": "2022-06-16T09:55:41.639Z"
   },
   {
    "duration": 7,
    "start_time": "2022-06-16T09:55:41.655Z"
   },
   {
    "duration": 6,
    "start_time": "2022-06-16T09:55:41.664Z"
   },
   {
    "duration": 12,
    "start_time": "2022-06-16T09:55:41.671Z"
   },
   {
    "duration": 40,
    "start_time": "2022-06-16T09:55:41.685Z"
   },
   {
    "duration": 6,
    "start_time": "2022-06-16T09:55:41.727Z"
   },
   {
    "duration": 88,
    "start_time": "2022-06-16T09:55:41.736Z"
   },
   {
    "duration": 5,
    "start_time": "2022-06-16T09:55:41.826Z"
   },
   {
    "duration": 21,
    "start_time": "2022-06-16T09:55:41.832Z"
   },
   {
    "duration": 5,
    "start_time": "2022-06-16T09:55:48.328Z"
   },
   {
    "duration": 4,
    "start_time": "2022-06-16T09:55:48.673Z"
   },
   {
    "duration": 5,
    "start_time": "2022-06-16T09:55:48.838Z"
   },
   {
    "duration": 6,
    "start_time": "2022-06-16T09:55:48.985Z"
   },
   {
    "duration": 4,
    "start_time": "2022-06-16T09:55:49.131Z"
   },
   {
    "duration": 6,
    "start_time": "2022-06-16T09:55:49.271Z"
   },
   {
    "duration": 5,
    "start_time": "2022-06-16T09:55:49.385Z"
   }
  ],
  "kernelspec": {
   "display_name": "Python 3 (ipykernel)",
   "language": "python",
   "name": "python3"
  },
  "language_info": {
   "codemirror_mode": {
    "name": "ipython",
    "version": 3
   },
   "file_extension": ".py",
   "mimetype": "text/x-python",
   "name": "python",
   "nbconvert_exporter": "python",
   "pygments_lexer": "ipython3",
   "version": "3.9.7"
  },
  "toc": {
   "base_numbering": 1,
   "nav_menu": {},
   "number_sections": false,
   "sideBar": true,
   "skip_h1_title": false,
   "title_cell": "Ход исследования",
   "title_sidebar": "Contents",
   "toc_cell": true,
   "toc_position": {
    "height": "calc(100% - 180px)",
    "left": "10px",
    "top": "150px",
    "width": "279.261px"
   },
   "toc_section_display": true,
   "toc_window_display": true
  }
 },
 "nbformat": 4,
 "nbformat_minor": 5
}
