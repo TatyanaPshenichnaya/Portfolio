{
 "cells": [
  {
   "cell_type": "markdown",
   "id": "cd9157d9",
   "metadata": {},
   "source": [
    "**Определение стоимости автомобилей**\n"
   ]
  },
  {
   "cell_type": "markdown",
   "id": "8663c55b",
   "metadata": {},
   "source": [
    "**Описание проекта**  \n"
   ]
  },
  {
   "cell_type": "markdown",
   "id": "3a0df597",
   "metadata": {},
   "source": [
    "Сервис по продаже автомобилей с пробегом «Не бит, не крашен» разрабатывает приложение для привлечения новых клиентов. В нём можно быстро узнать рыночную стоимость своего автомобиля. В вашем распоряжении исторические данные: технические характеристики, комплектации и цены автомобилей. Вам нужно построить модель для определения стоимости.  \n",
    "Заказчику важны:  \n",
    " - качество предсказания;\n",
    " - скорость предсказания;\n",
    " - время обучения."
   ]
  },
  {
   "cell_type": "markdown",
   "id": "b0302429",
   "metadata": {},
   "source": [
    "**Цель исследования**  \n"
   ]
  },
  {
   "cell_type": "markdown",
   "id": "5b986146",
   "metadata": {},
   "source": [
    " - создать модель предсказания цены автомобилей, оптимальную по соотношению качество-скорость-время обучения.\n",
    " - качество модели определить метрикой RMSE, которая должна быть ниже 2600."
   ]
  },
  {
   "cell_type": "markdown",
   "id": "e5ff1a7e",
   "metadata": {},
   "source": [
    "**Описание данных**  \n",
    "Имеется датасет с 16 колонками и 350тыс строк с характеристиками транспортного средства. Целевым признаком является цена."
   ]
  },
  {
   "cell_type": "markdown",
   "id": "f4cf7ae8",
   "metadata": {
    "toc": true
   },
   "source": [
    "<h1>Ход исследования<span class=\"tocSkip\"></span></h1>\n",
    "<div class=\"toc\"><ul class=\"toc-item\"><li><ul class=\"toc-item\"><li><span><a href=\"#1.-Изучение-данных\" data-toc-modified-id=\"1.-Изучение-данных-0.1\">1. Изучение данных</a></span><ul class=\"toc-item\"><li><span><a href=\"#1.1-Изучение-общей-информации\" data-toc-modified-id=\"1.1-Изучение-общей-информации-0.1.1\">1.1 Изучение общей информации</a></span></li><li><span><a href=\"#1.2-Предобработка-данных-и-EDA\" data-toc-modified-id=\"1.2-Предобработка-данных-и-EDA-0.1.2\">1.2 Предобработка данных и EDA</a></span></li></ul></li><li><span><a href=\"#2.-Подготовка-данных\" data-toc-modified-id=\"2.-Подготовка-данных-0.2\">2. Подготовка данных</a></span><ul class=\"toc-item\"><li><span><a href=\"#2.1-Изучение-корреляции-данных\" data-toc-modified-id=\"2.1-Изучение-корреляции-данных-0.2.1\">2.1 Изучение корреляции данных</a></span></li><li><span><a href=\"#2.2-Кодирование-данных-прямым-методом\" data-toc-modified-id=\"2.2-Кодирование-данных-прямым-методом-0.2.2\">2.2 Кодирование данных прямым методом</a></span></li><li><span><a href=\"#2.3-Разделение-данных-на--выборки-и-выделение-признаков\" data-toc-modified-id=\"2.3-Разделение-данных-на--выборки-и-выделение-признаков-0.2.3\">2.3 Разделение данных на  выборки и выделение признаков</a></span></li><li><span><a href=\"#2.4-Масштабирование-признаков\" data-toc-modified-id=\"2.4-Масштабирование-признаков-0.2.4\">2.4 Масштабирование признаков</a></span></li></ul></li><li><span><a href=\"#3.-Обучение-разных-моделей\" data-toc-modified-id=\"3.-Обучение-разных-моделей-0.3\">3. Обучение разных моделей</a></span><ul class=\"toc-item\"><li><span><a href=\"#3.1-Линейная-регрессия\" data-toc-modified-id=\"3.1-Линейная-регрессия-0.3.1\">3.1 Линейная регрессия</a></span></li><li><span><a href=\"#3.2-Дерево-решений\" data-toc-modified-id=\"3.2-Дерево-решений-0.3.2\">3.2 Дерево решений</a></span></li><li><span><a href=\"#3.3-Случайный-лес\" data-toc-modified-id=\"3.3-Случайный-лес-0.3.3\">3.3 Случайный лес</a></span></li><li><span><a href=\"#3.4-Градиентный-бустинг\" data-toc-modified-id=\"3.4-Градиентный-бустинг-0.3.4\">3.4 Градиентный бустинг</a></span></li><li><span><a href=\"#3.5-Регрессия-LASSO\" data-toc-modified-id=\"3.5-Регрессия-LASSO-0.3.5\">3.5 Регрессия LASSO</a></span></li><li><span><a href=\"#3.6-Модель-градиентного-бустинга--LightGBM\" data-toc-modified-id=\"3.6-Модель-градиентного-бустинга--LightGBM-0.3.6\">3.6 Модель градиентного бустинга  LightGBM</a></span></li></ul></li><li><span><a href=\"#4-Проверка-моделей-на-тестовой-выборке\" data-toc-modified-id=\"4-Проверка-моделей-на-тестовой-выборке-0.4\">4 Проверка моделей на тестовой выборке</a></span></li><li><span><a href=\"#Вывод\" data-toc-modified-id=\"Вывод-0.5\">Вывод</a></span></li></ul></li><li><span><a href=\"#Общее-впечатление\" data-toc-modified-id=\"Общее-впечатление-1\"><font color=\"orange\">Общее впечатление</font></a></span></li><li><span><a href=\"#2.-Общее-впечатление\" data-toc-modified-id=\"2.-Общее-впечатление-2\"><font color=\"orange\">2. Общее впечатление</font></a></span></li></ul></div>"
   ]
  },
  {
   "cell_type": "markdown",
   "id": "d42f7ab6",
   "metadata": {},
   "source": [
    "## 1. Изучение данных"
   ]
  },
  {
   "cell_type": "markdown",
   "id": "7ca5f2fb",
   "metadata": {},
   "source": [
    "### 1.1 Изучение общей информации"
   ]
  },
  {
   "cell_type": "markdown",
   "id": "658443b2",
   "metadata": {},
   "source": [
    "Импортируем нужные библиотеки:"
   ]
  },
  {
   "cell_type": "code",
   "execution_count": 1,
   "id": "2c3bb0c6",
   "metadata": {},
   "outputs": [],
   "source": [
    "import pandas as pd\n",
    "from sklearn.model_selection import train_test_split\n",
    "import numpy as np\n",
    "import seaborn as sns\n",
    "import re\n",
    "import matplotlib.pyplot as plt\n",
    "from sklearn.preprocessing import OrdinalEncoder\n",
    "from sklearn.preprocessing import OneHotEncoder\n",
    "from sklearn.preprocessing import MinMaxScaler\n",
    "from sklearn.linear_model import LinearRegression\n",
    "from sklearn.metrics import mean_squared_error\n",
    "from sklearn.metrics import make_scorer\n",
    "from sklearn.ensemble import RandomForestRegressor\n",
    "from sklearn.tree import DecisionTreeRegressor\n",
    "from sklearn.linear_model import LassoCV\n",
    "\n",
    "from sklearn.model_selection import GridSearchCV\n",
    "from sklearn.model_selection import cross_val_score\n",
    "from sklearn.ensemble import GradientBoostingRegressor\n",
    "from lightgbm import LGBMRegressor\n"
   ]
  },
  {
   "cell_type": "code",
   "execution_count": 2,
   "id": "44bd6d8f",
   "metadata": {},
   "outputs": [
    {
     "data": {
      "text/html": [
       "<div>\n",
       "<style scoped>\n",
       "    .dataframe tbody tr th:only-of-type {\n",
       "        vertical-align: middle;\n",
       "    }\n",
       "\n",
       "    .dataframe tbody tr th {\n",
       "        vertical-align: top;\n",
       "    }\n",
       "\n",
       "    .dataframe thead th {\n",
       "        text-align: right;\n",
       "    }\n",
       "</style>\n",
       "<table border=\"1\" class=\"dataframe\">\n",
       "  <thead>\n",
       "    <tr style=\"text-align: right;\">\n",
       "      <th></th>\n",
       "      <th>DateCrawled</th>\n",
       "      <th>Price</th>\n",
       "      <th>VehicleType</th>\n",
       "      <th>RegistrationYear</th>\n",
       "      <th>Gearbox</th>\n",
       "      <th>Power</th>\n",
       "      <th>Model</th>\n",
       "      <th>Kilometer</th>\n",
       "      <th>RegistrationMonth</th>\n",
       "      <th>FuelType</th>\n",
       "      <th>Brand</th>\n",
       "      <th>NotRepaired</th>\n",
       "      <th>DateCreated</th>\n",
       "      <th>NumberOfPictures</th>\n",
       "      <th>PostalCode</th>\n",
       "      <th>LastSeen</th>\n",
       "    </tr>\n",
       "  </thead>\n",
       "  <tbody>\n",
       "    <tr>\n",
       "      <th>0</th>\n",
       "      <td>2016-03-24 11:52:17</td>\n",
       "      <td>480</td>\n",
       "      <td>NaN</td>\n",
       "      <td>1993</td>\n",
       "      <td>manual</td>\n",
       "      <td>0</td>\n",
       "      <td>golf</td>\n",
       "      <td>150000</td>\n",
       "      <td>0</td>\n",
       "      <td>petrol</td>\n",
       "      <td>volkswagen</td>\n",
       "      <td>NaN</td>\n",
       "      <td>2016-03-24 00:00:00</td>\n",
       "      <td>0</td>\n",
       "      <td>70435</td>\n",
       "      <td>2016-04-07 03:16:57</td>\n",
       "    </tr>\n",
       "    <tr>\n",
       "      <th>1</th>\n",
       "      <td>2016-03-24 10:58:45</td>\n",
       "      <td>18300</td>\n",
       "      <td>coupe</td>\n",
       "      <td>2011</td>\n",
       "      <td>manual</td>\n",
       "      <td>190</td>\n",
       "      <td>NaN</td>\n",
       "      <td>125000</td>\n",
       "      <td>5</td>\n",
       "      <td>gasoline</td>\n",
       "      <td>audi</td>\n",
       "      <td>yes</td>\n",
       "      <td>2016-03-24 00:00:00</td>\n",
       "      <td>0</td>\n",
       "      <td>66954</td>\n",
       "      <td>2016-04-07 01:46:50</td>\n",
       "    </tr>\n",
       "    <tr>\n",
       "      <th>2</th>\n",
       "      <td>2016-03-14 12:52:21</td>\n",
       "      <td>9800</td>\n",
       "      <td>suv</td>\n",
       "      <td>2004</td>\n",
       "      <td>auto</td>\n",
       "      <td>163</td>\n",
       "      <td>grand</td>\n",
       "      <td>125000</td>\n",
       "      <td>8</td>\n",
       "      <td>gasoline</td>\n",
       "      <td>jeep</td>\n",
       "      <td>NaN</td>\n",
       "      <td>2016-03-14 00:00:00</td>\n",
       "      <td>0</td>\n",
       "      <td>90480</td>\n",
       "      <td>2016-04-05 12:47:46</td>\n",
       "    </tr>\n",
       "    <tr>\n",
       "      <th>3</th>\n",
       "      <td>2016-03-17 16:54:04</td>\n",
       "      <td>1500</td>\n",
       "      <td>small</td>\n",
       "      <td>2001</td>\n",
       "      <td>manual</td>\n",
       "      <td>75</td>\n",
       "      <td>golf</td>\n",
       "      <td>150000</td>\n",
       "      <td>6</td>\n",
       "      <td>petrol</td>\n",
       "      <td>volkswagen</td>\n",
       "      <td>no</td>\n",
       "      <td>2016-03-17 00:00:00</td>\n",
       "      <td>0</td>\n",
       "      <td>91074</td>\n",
       "      <td>2016-03-17 17:40:17</td>\n",
       "    </tr>\n",
       "    <tr>\n",
       "      <th>4</th>\n",
       "      <td>2016-03-31 17:25:20</td>\n",
       "      <td>3600</td>\n",
       "      <td>small</td>\n",
       "      <td>2008</td>\n",
       "      <td>manual</td>\n",
       "      <td>69</td>\n",
       "      <td>fabia</td>\n",
       "      <td>90000</td>\n",
       "      <td>7</td>\n",
       "      <td>gasoline</td>\n",
       "      <td>skoda</td>\n",
       "      <td>no</td>\n",
       "      <td>2016-03-31 00:00:00</td>\n",
       "      <td>0</td>\n",
       "      <td>60437</td>\n",
       "      <td>2016-04-06 10:17:21</td>\n",
       "    </tr>\n",
       "  </tbody>\n",
       "</table>\n",
       "</div>"
      ],
      "text/plain": [
       "           DateCrawled  Price VehicleType  RegistrationYear Gearbox  Power  \\\n",
       "0  2016-03-24 11:52:17    480         NaN              1993  manual      0   \n",
       "1  2016-03-24 10:58:45  18300       coupe              2011  manual    190   \n",
       "2  2016-03-14 12:52:21   9800         suv              2004    auto    163   \n",
       "3  2016-03-17 16:54:04   1500       small              2001  manual     75   \n",
       "4  2016-03-31 17:25:20   3600       small              2008  manual     69   \n",
       "\n",
       "   Model  Kilometer  RegistrationMonth  FuelType       Brand NotRepaired  \\\n",
       "0   golf     150000                  0    petrol  volkswagen         NaN   \n",
       "1    NaN     125000                  5  gasoline        audi         yes   \n",
       "2  grand     125000                  8  gasoline        jeep         NaN   \n",
       "3   golf     150000                  6    petrol  volkswagen          no   \n",
       "4  fabia      90000                  7  gasoline       skoda          no   \n",
       "\n",
       "           DateCreated  NumberOfPictures  PostalCode             LastSeen  \n",
       "0  2016-03-24 00:00:00                 0       70435  2016-04-07 03:16:57  \n",
       "1  2016-03-24 00:00:00                 0       66954  2016-04-07 01:46:50  \n",
       "2  2016-03-14 00:00:00                 0       90480  2016-04-05 12:47:46  \n",
       "3  2016-03-17 00:00:00                 0       91074  2016-03-17 17:40:17  \n",
       "4  2016-03-31 00:00:00                 0       60437  2016-04-06 10:17:21  "
      ]
     },
     "metadata": {},
     "output_type": "display_data"
    }
   ],
   "source": [
    "try:\n",
    "    data = pd.read_csv('D:\\\\Хранилище информации\\\\DATA SCIENCE учеба\\\\projects\\\\сборный_проект_1\\\\autos.csv', sep=',', encoding='utf-8')\n",
    "    print('Прочитано с локального диска')\n",
    "except:\n",
    "    data = pd.read_csv('https://code.s3.yandex.net///datasets//autos.csv', sep=',')\n",
    "display(data.head())"
   ]
  },
  {
   "cell_type": "markdown",
   "id": "a73a4ca7",
   "metadata": {},
   "source": [
    "**Описание данных**  \n",
    "***Признаки***  \n",
    "DateCrawled — дата скачивания анкеты из базы  \n",
    "VehicleType — тип автомобильного кузова  \n",
    "RegistrationYear — год регистрации автомобиля  \n",
    "Gearbox — тип коробки передач  \n",
    "Power — мощность (л. с.)  \n",
    "Model — модель автомобиля  \n",
    "Kilometer — пробег (км)  \n",
    "RegistrationMonth — месяц регистрации автомобиля  \n",
    "FuelType — тип топлива  \n",
    "Brand — марка автомобиля  \n",
    "NotRepaired — была машина в ремонте или нет  \n",
    "DateCreated — дата создания анкеты  \n",
    "NumberOfPictures — количество фотографий автомобиля  \n",
    "PostalCode — почтовый индекс владельца анкеты (пользователя)  \n",
    "LastSeen — дата последней активности пользователя  \n",
    "***Целевой признак***  \n",
    "Price — цена (евро)"
   ]
  },
  {
   "cell_type": "code",
   "execution_count": 3,
   "id": "73d36c1d",
   "metadata": {},
   "outputs": [
    {
     "name": "stdout",
     "output_type": "stream",
     "text": [
      "<class 'pandas.core.frame.DataFrame'>\n",
      "RangeIndex: 354369 entries, 0 to 354368\n",
      "Data columns (total 16 columns):\n",
      " #   Column             Non-Null Count   Dtype \n",
      "---  ------             --------------   ----- \n",
      " 0   DateCrawled        354369 non-null  object\n",
      " 1   Price              354369 non-null  int64 \n",
      " 2   VehicleType        316879 non-null  object\n",
      " 3   RegistrationYear   354369 non-null  int64 \n",
      " 4   Gearbox            334536 non-null  object\n",
      " 5   Power              354369 non-null  int64 \n",
      " 6   Model              334664 non-null  object\n",
      " 7   Kilometer          354369 non-null  int64 \n",
      " 8   RegistrationMonth  354369 non-null  int64 \n",
      " 9   FuelType           321474 non-null  object\n",
      " 10  Brand              354369 non-null  object\n",
      " 11  NotRepaired        283215 non-null  object\n",
      " 12  DateCreated        354369 non-null  object\n",
      " 13  NumberOfPictures   354369 non-null  int64 \n",
      " 14  PostalCode         354369 non-null  int64 \n",
      " 15  LastSeen           354369 non-null  object\n",
      "dtypes: int64(7), object(9)\n",
      "memory usage: 43.3+ MB\n"
     ]
    }
   ],
   "source": [
    "# Выведем количество строк и столбцов\n",
    "data.info()"
   ]
  },
  {
   "cell_type": "code",
   "execution_count": 4,
   "id": "0088bc67",
   "metadata": {},
   "outputs": [
    {
     "data": {
      "text/html": [
       "<div>\n",
       "<style scoped>\n",
       "    .dataframe tbody tr th:only-of-type {\n",
       "        vertical-align: middle;\n",
       "    }\n",
       "\n",
       "    .dataframe tbody tr th {\n",
       "        vertical-align: top;\n",
       "    }\n",
       "\n",
       "    .dataframe thead th {\n",
       "        text-align: right;\n",
       "    }\n",
       "</style>\n",
       "<table border=\"1\" class=\"dataframe\">\n",
       "  <thead>\n",
       "    <tr style=\"text-align: right;\">\n",
       "      <th></th>\n",
       "      <th>index</th>\n",
       "      <th>value</th>\n",
       "      <th>persantage</th>\n",
       "    </tr>\n",
       "  </thead>\n",
       "  <tbody>\n",
       "    <tr>\n",
       "      <th>2</th>\n",
       "      <td>VehicleType</td>\n",
       "      <td>37490</td>\n",
       "      <td>10.6</td>\n",
       "    </tr>\n",
       "    <tr>\n",
       "      <th>4</th>\n",
       "      <td>Gearbox</td>\n",
       "      <td>19833</td>\n",
       "      <td>5.6</td>\n",
       "    </tr>\n",
       "    <tr>\n",
       "      <th>6</th>\n",
       "      <td>Model</td>\n",
       "      <td>19705</td>\n",
       "      <td>5.6</td>\n",
       "    </tr>\n",
       "    <tr>\n",
       "      <th>9</th>\n",
       "      <td>FuelType</td>\n",
       "      <td>32895</td>\n",
       "      <td>9.3</td>\n",
       "    </tr>\n",
       "    <tr>\n",
       "      <th>11</th>\n",
       "      <td>NotRepaired</td>\n",
       "      <td>71154</td>\n",
       "      <td>20.1</td>\n",
       "    </tr>\n",
       "  </tbody>\n",
       "</table>\n",
       "</div>"
      ],
      "text/plain": [
       "          index  value  persantage\n",
       "2   VehicleType  37490        10.6\n",
       "4       Gearbox  19833         5.6\n",
       "6         Model  19705         5.6\n",
       "9      FuelType  32895         9.3\n",
       "11  NotRepaired  71154        20.1"
      ]
     },
     "metadata": {},
     "output_type": "display_data"
    }
   ],
   "source": [
    "# Создадим таблицу с данными о пропусках, добавим расчет процента пропусков от всех данных по столбцам.\n",
    "omissions = data.isna().sum()\n",
    "omissions = omissions.to_frame().reset_index() # сконвертим series в датафрейм\n",
    "omissions = omissions.rename(columns= {0: 'value'})\n",
    "#omissions.index.name = 'index'\n",
    "omissions['persantage'] = (omissions['value']/len(data)*100).round(1) #выведем процент пропусков \n",
    "display(omissions[omissions['persantage']!=0])"
   ]
  },
  {
   "cell_type": "code",
   "execution_count": 5,
   "id": "cedbe09e",
   "metadata": {},
   "outputs": [
    {
     "data": {
      "text/plain": [
       "4"
      ]
     },
     "execution_count": 5,
     "metadata": {},
     "output_type": "execute_result"
    }
   ],
   "source": [
    "# Проверим на дубликаты\n",
    "data.duplicated().sum()"
   ]
  },
  {
   "cell_type": "markdown",
   "id": "88afb76f",
   "metadata": {},
   "source": [
    "### 1.2 Предобработка данных и EDA"
   ]
  },
  {
   "cell_type": "markdown",
   "id": "3c81b2c0",
   "metadata": {},
   "source": [
    "Приведём названия столбцов к нижнему регистру и добавим нижнюю черту."
   ]
  },
  {
   "cell_type": "code",
   "execution_count": 6,
   "id": "eede229d",
   "metadata": {},
   "outputs": [
    {
     "data": {
      "text/plain": [
       "Index(['date_crawled', 'price', 'vehicle_type', 'registration_year', 'gearbox',\n",
       "       'power', 'model', 'kilometer', 'registration_month', 'fuel_type',\n",
       "       'brand', 'not_repaired', 'date_created', 'number_of_pictures',\n",
       "       'postal_code', 'last_seen'],\n",
       "      dtype='object')"
      ]
     },
     "execution_count": 6,
     "metadata": {},
     "output_type": "execute_result"
    }
   ],
   "source": [
    "data.columns = [re.sub(r'(?<!^)(?=[A-Z])', '_', name).lower() for name in data.columns]\n",
    "data.columns"
   ]
  },
  {
   "cell_type": "markdown",
   "id": "eb05c11b",
   "metadata": {},
   "source": [
    "Удалим дубликаты."
   ]
  },
  {
   "cell_type": "code",
   "execution_count": 7,
   "id": "796a0adb",
   "metadata": {},
   "outputs": [],
   "source": [
    "data = data.drop_duplicates().reset_index(drop=True)"
   ]
  },
  {
   "cell_type": "markdown",
   "id": "ce6aed3a",
   "metadata": {},
   "source": [
    "Создадим таблицу абсолютно очишенных от пропусков данных."
   ]
  },
  {
   "cell_type": "code",
   "execution_count": 8,
   "id": "45130cc0",
   "metadata": {},
   "outputs": [
    {
     "data": {
      "text/plain": [
       "(236198, 17)"
      ]
     },
     "execution_count": 8,
     "metadata": {},
     "output_type": "execute_result"
    }
   ],
   "source": [
    "clear_data = data.dropna()\n",
    "clear_data = clear_data[clear_data['power']!=0] # также кроме пропусков, удалили нули зи столбца мощность\n",
    "clear_data = clear_data.reset_index()\n",
    "clear_data.shape"
   ]
  },
  {
   "cell_type": "markdown",
   "id": "5e5bd27a",
   "metadata": {},
   "source": [
    "Исследуем уникальные значения столбцов."
   ]
  },
  {
   "cell_type": "code",
   "execution_count": 9,
   "id": "bdca8b92",
   "metadata": {},
   "outputs": [
    {
     "data": {
      "text/plain": [
       "sedan          91457\n",
       "small          79830\n",
       "wagon          65165\n",
       "bus            28775\n",
       "convertible    20203\n",
       "coupe          16161\n",
       "suv            11996\n",
       "other           3288\n",
       "Name: vehicle_type, dtype: int64"
      ]
     },
     "execution_count": 9,
     "metadata": {},
     "output_type": "execute_result"
    }
   ],
   "source": [
    "data['vehicle_type'].value_counts()"
   ]
  },
  {
   "cell_type": "markdown",
   "id": "43d7296b",
   "metadata": {},
   "source": [
    "Так же в этом столбце 10.6% пропусков. Заполним пропуски на значение 'unknown'."
   ]
  },
  {
   "cell_type": "code",
   "execution_count": 10,
   "id": "00c52364",
   "metadata": {},
   "outputs": [
    {
     "data": {
      "text/plain": [
       "sedan          91457\n",
       "small          79830\n",
       "wagon          65165\n",
       "unknown        37490\n",
       "bus            28775\n",
       "convertible    20203\n",
       "coupe          16161\n",
       "suv            11996\n",
       "other           3288\n",
       "Name: vehicle_type, dtype: int64"
      ]
     },
     "execution_count": 10,
     "metadata": {},
     "output_type": "execute_result"
    }
   ],
   "source": [
    "data['vehicle_type'] = data['vehicle_type'].fillna('unknown')\n",
    "data['vehicle_type'].value_counts()"
   ]
  },
  {
   "cell_type": "code",
   "execution_count": 11,
   "id": "fd253eea",
   "metadata": {},
   "outputs": [
    {
     "data": {
      "text/plain": [
       "array([1000, 1001, 1039, 1111, 1200, 1234, 1253, 1255, 1300, 1400, 1500,\n",
       "       1600, 1602, 1688, 1800, 1910, 1915, 1919, 1920, 1923, 1925, 1927,\n",
       "       1928, 1929, 1930, 1931, 1932, 1933, 1934, 1935, 1936, 1937, 1938,\n",
       "       1940, 1941, 1942, 1943, 1944, 1945, 1946, 1947, 1948, 1949, 1950,\n",
       "       1951, 1952, 1953, 1954, 1955, 1956, 1957, 1958, 1959, 1960, 1961,\n",
       "       1962, 1963, 1964, 1965, 1966, 1967, 1968, 1969, 1970, 1971, 1972,\n",
       "       1973, 1974, 1975, 1976, 1977, 1978, 1979, 1980, 1981, 1982, 1983,\n",
       "       1984, 1985, 1986, 1987, 1988, 1989, 1990, 1991, 1992, 1993, 1994,\n",
       "       1995, 1996, 1997, 1998, 1999, 2000, 2001, 2002, 2003, 2004, 2005,\n",
       "       2006, 2007, 2008, 2009, 2010, 2011, 2012, 2013, 2014, 2015, 2016,\n",
       "       2017, 2018, 2019, 2066, 2200, 2222, 2290, 2500, 2800, 2900, 3000,\n",
       "       3200, 3500, 3700, 3800, 4000, 4100, 4500, 4800, 5000, 5300, 5555,\n",
       "       5600, 5900, 5911, 6000, 6500, 7000, 7100, 7500, 7800, 8000, 8200,\n",
       "       8455, 8500, 8888, 9000, 9229, 9450, 9996, 9999], dtype=int64)"
      ]
     },
     "execution_count": 11,
     "metadata": {},
     "output_type": "execute_result"
    }
   ],
   "source": [
    "np.array(sorted(data['registration_year'].unique()))"
   ]
  },
  {
   "cell_type": "code",
   "execution_count": 12,
   "id": "dd59feb7",
   "metadata": {},
   "outputs": [
    {
     "data": {
      "text/plain": [
       "351"
      ]
     },
     "execution_count": 12,
     "metadata": {},
     "output_type": "execute_result"
    }
   ],
   "source": [
    "len(data[ (data['registration_year']<1950) | (data['registration_year']>2019)  ])"
   ]
  },
  {
   "cell_type": "markdown",
   "id": "e5db37e8",
   "metadata": {},
   "source": [
    "Количество объектов, принадлежащих нереалистичным годам равно 351. Удалим их."
   ]
  },
  {
   "cell_type": "code",
   "execution_count": 13,
   "id": "9b966d2f",
   "metadata": {},
   "outputs": [
    {
     "data": {
      "text/plain": [
       "354014"
      ]
     },
     "execution_count": 13,
     "metadata": {},
     "output_type": "execute_result"
    }
   ],
   "source": [
    "data = data[ (1950<=data['registration_year']) & (data['registration_year']<=2019) ]\n",
    "data = data.reset_index(drop=True)\n",
    "len(data)"
   ]
  },
  {
   "cell_type": "markdown",
   "id": "cead7787",
   "metadata": {},
   "source": [
    "В столбце gearbox заполним пропуски на значение 'unknown'."
   ]
  },
  {
   "cell_type": "code",
   "execution_count": 14,
   "id": "84b5d2ff",
   "metadata": {
    "scrolled": true
   },
   "outputs": [
    {
     "data": {
      "text/plain": [
       "manual     268144\n",
       "auto        66272\n",
       "unknown     19598\n",
       "Name: gearbox, dtype: int64"
      ]
     },
     "execution_count": 14,
     "metadata": {},
     "output_type": "execute_result"
    }
   ],
   "source": [
    "data['gearbox'] = data['gearbox'].fillna('unknown')\n",
    "data['gearbox'].value_counts()"
   ]
  },
  {
   "cell_type": "code",
   "execution_count": 15,
   "id": "8ffc6224",
   "metadata": {},
   "outputs": [
    {
     "data": {
      "text/plain": [
       "1330"
      ]
     },
     "execution_count": 15,
     "metadata": {},
     "output_type": "execute_result"
    }
   ],
   "source": [
    "#np.array(sorted(data['power'].unique())) \n",
    "len(data[ ((data['power']>500) | (data['power']<30) ) & (data['power']!=0) ])"
   ]
  },
  {
   "cell_type": "markdown",
   "id": "676c76b6",
   "metadata": {},
   "source": [
    "Количество лошадиных сил меньше 30 и более 500 нереалистично. Удаляем."
   ]
  },
  {
   "cell_type": "code",
   "execution_count": 16,
   "id": "6a5f11ca",
   "metadata": {},
   "outputs": [
    {
     "data": {
      "text/plain": [
       "352684"
      ]
     },
     "execution_count": 16,
     "metadata": {},
     "output_type": "execute_result"
    }
   ],
   "source": [
    "data = data[ ( (30<=data['power']) & (data['power']<=500) ) | (data['power']==0) ]\n",
    "data = data.reset_index(drop=True)\n",
    "len(data)"
   ]
  },
  {
   "cell_type": "code",
   "execution_count": 17,
   "id": "1ac4a471",
   "metadata": {},
   "outputs": [
    {
     "data": {
      "text/plain": [
       "39971"
      ]
     },
     "execution_count": 17,
     "metadata": {},
     "output_type": "execute_result"
    }
   ],
   "source": [
    "len(data[ data['power']==0])"
   ]
  },
  {
   "cell_type": "markdown",
   "id": "c378f171",
   "metadata": {},
   "source": [
    "Огромное количество нулей. "
   ]
  },
  {
   "cell_type": "code",
   "execution_count": 18,
   "id": "809b5d66",
   "metadata": {},
   "outputs": [
    {
     "data": {
      "text/html": [
       "<div>\n",
       "<style scoped>\n",
       "    .dataframe tbody tr th:only-of-type {\n",
       "        vertical-align: middle;\n",
       "    }\n",
       "\n",
       "    .dataframe tbody tr th {\n",
       "        vertical-align: top;\n",
       "    }\n",
       "\n",
       "    .dataframe thead th {\n",
       "        text-align: right;\n",
       "    }\n",
       "</style>\n",
       "<table border=\"1\" class=\"dataframe\">\n",
       "  <thead>\n",
       "    <tr style=\"text-align: right;\">\n",
       "      <th></th>\n",
       "      <th>power</th>\n",
       "    </tr>\n",
       "    <tr>\n",
       "      <th>model</th>\n",
       "      <th></th>\n",
       "    </tr>\n",
       "  </thead>\n",
       "  <tbody>\n",
       "    <tr>\n",
       "      <th>100</th>\n",
       "      <td>126.733173</td>\n",
       "    </tr>\n",
       "    <tr>\n",
       "      <th>145</th>\n",
       "      <td>86.469388</td>\n",
       "    </tr>\n",
       "    <tr>\n",
       "      <th>147</th>\n",
       "      <td>112.509632</td>\n",
       "    </tr>\n",
       "    <tr>\n",
       "      <th>156</th>\n",
       "      <td>137.200957</td>\n",
       "    </tr>\n",
       "    <tr>\n",
       "      <th>159</th>\n",
       "      <td>165.014151</td>\n",
       "    </tr>\n",
       "    <tr>\n",
       "      <th>...</th>\n",
       "      <td>...</td>\n",
       "    </tr>\n",
       "    <tr>\n",
       "      <th>yaris</th>\n",
       "      <td>73.011628</td>\n",
       "    </tr>\n",
       "    <tr>\n",
       "      <th>yeti</th>\n",
       "      <td>120.114943</td>\n",
       "    </tr>\n",
       "    <tr>\n",
       "      <th>ypsilon</th>\n",
       "      <td>58.951691</td>\n",
       "    </tr>\n",
       "    <tr>\n",
       "      <th>z_reihe</th>\n",
       "      <td>171.691771</td>\n",
       "    </tr>\n",
       "    <tr>\n",
       "      <th>zafira</th>\n",
       "      <td>110.720317</td>\n",
       "    </tr>\n",
       "  </tbody>\n",
       "</table>\n",
       "<p>250 rows × 1 columns</p>\n",
       "</div>"
      ],
      "text/plain": [
       "              power\n",
       "model              \n",
       "100      126.733173\n",
       "145       86.469388\n",
       "147      112.509632\n",
       "156      137.200957\n",
       "159      165.014151\n",
       "...             ...\n",
       "yaris     73.011628\n",
       "yeti     120.114943\n",
       "ypsilon   58.951691\n",
       "z_reihe  171.691771\n",
       "zafira   110.720317\n",
       "\n",
       "[250 rows x 1 columns]"
      ]
     },
     "execution_count": 18,
     "metadata": {},
     "output_type": "execute_result"
    }
   ],
   "source": [
    "pivot_model_power = data.pivot_table(index='model', values='power',aggfunc='mean')\n",
    "pivot_model_power"
   ]
  },
  {
   "cell_type": "markdown",
   "id": "530ef98b",
   "metadata": {},
   "source": [
    "Заполним нулевую мощность средней мощностью по модели."
   ]
  },
  {
   "cell_type": "code",
   "execution_count": 19,
   "id": "17bb19e2",
   "metadata": {
    "scrolled": true
   },
   "outputs": [
    {
     "name": "stdout",
     "output_type": "stream",
     "text": [
      "6160\n"
     ]
    }
   ],
   "source": [
    "models = list(data['model'].unique())\n",
    "\n",
    "def replace_power(row):\n",
    "    new_power = 0\n",
    "   \n",
    "    if row['power'] == 0:\n",
    "        for model in models:\n",
    "            if row['model'] == model:\n",
    "                new_power = pivot_model_power.loc[model, 'power']\n",
    "    else:\n",
    "        new_power = row['power']\n",
    "    return  new_power\n",
    "\n",
    "data['power'] = data.apply(replace_power, axis=1)\n",
    "print(len(data[ data['power']==0])) # проверим, остались ли нули "
   ]
  },
  {
   "cell_type": "markdown",
   "id": "86a42125",
   "metadata": {},
   "source": [
    "Нули остались там, где нет данных о модели."
   ]
  },
  {
   "cell_type": "code",
   "execution_count": 20,
   "id": "954d79d2",
   "metadata": {},
   "outputs": [
    {
     "data": {
      "image/png": "[encoded data removed]",
      "text/plain": [
       "<Figure size 432x288 with 1 Axes>"
      ]
     },
     "metadata": {
      "needs_background": "light"
     },
     "output_type": "display_data"
    }
   ],
   "source": [
    "plt.xlabel('Мощность')\n",
    "plt.xlim(0,500)\n",
    "data['power'].plot(kind='hist', bins=100, title='Распределение признака в датасете')\n",
    "plt.show()"
   ]
  },
  {
   "cell_type": "code",
   "execution_count": 21,
   "id": "92093e01",
   "metadata": {},
   "outputs": [
    {
     "data": {
      "text/plain": [
       "251"
      ]
     },
     "execution_count": 21,
     "metadata": {},
     "output_type": "execute_result"
    }
   ],
   "source": [
    "len(data['model'].unique())"
   ]
  },
  {
   "cell_type": "code",
   "execution_count": 22,
   "id": "f5295f75",
   "metadata": {},
   "outputs": [
    {
     "data": {
      "text/plain": [
       "150000"
      ]
     },
     "execution_count": 22,
     "metadata": {},
     "output_type": "execute_result"
    }
   ],
   "source": [
    "data['kilometer'].max()"
   ]
  },
  {
   "cell_type": "markdown",
   "id": "8c3a3755",
   "metadata": {},
   "source": [
    "Средний пробег в год по оценке \"Автостата\" равен примерно 17,5тыс км. Километраж в данных в диапазоне реалистичных значений."
   ]
  },
  {
   "cell_type": "code",
   "execution_count": 23,
   "id": "7980a7c4",
   "metadata": {},
   "outputs": [
    {
     "data": {
      "text/plain": [
       "array([ 0,  5,  8,  6,  7, 10, 12, 11,  2,  3,  1,  4,  9], dtype=int64)"
      ]
     },
     "execution_count": 23,
     "metadata": {},
     "output_type": "execute_result"
    }
   ],
   "source": [
    "data['registration_month'].unique()"
   ]
  },
  {
   "cell_type": "code",
   "execution_count": 24,
   "id": "0cebf6e5",
   "metadata": {},
   "outputs": [
    {
     "data": {
      "text/plain": [
       "(36907, 24192)"
      ]
     },
     "execution_count": 24,
     "metadata": {},
     "output_type": "execute_result"
    }
   ],
   "source": [
    "len(data[data['registration_month']==0]), len(data[data['registration_month']==12])"
   ]
  },
  {
   "cell_type": "markdown",
   "id": "07281b9c",
   "metadata": {},
   "source": [
    "В данных стобца месяца регистрации явная путаница: есть значение и 0, и 12, причем значений этих типов по 22 тыс. 13 месяцев быть не может, но, возможно, часть данных была создана с форматом 0-11, а часть : 1-12. Тогда никакому значению месяца доверять сильно нельзя, если не уточнить дополнительно."
   ]
  },
  {
   "cell_type": "code",
   "execution_count": 25,
   "id": "64380fd6",
   "metadata": {},
   "outputs": [
    {
     "data": {
      "text/plain": [
       "array(['petrol', 'gasoline', nan, 'lpg', 'other', 'hybrid', 'cng',\n",
       "       'electric'], dtype=object)"
      ]
     },
     "execution_count": 25,
     "metadata": {},
     "output_type": "execute_result"
    }
   ],
   "source": [
    "data['fuel_type'].unique()"
   ]
  },
  {
   "cell_type": "code",
   "execution_count": 26,
   "id": "79f70761",
   "metadata": {},
   "outputs": [],
   "source": [
    "data['fuel_type'] = data['fuel_type'].fillna('unknown')"
   ]
  },
  {
   "cell_type": "code",
   "execution_count": 27,
   "id": "80fb560a",
   "metadata": {},
   "outputs": [
    {
     "data": {
      "text/plain": [
       "array(['volkswagen', 'audi', 'jeep', 'skoda', 'bmw', 'peugeot', 'ford',\n",
       "       'mazda', 'nissan', 'renault', 'mercedes_benz', 'opel', 'seat',\n",
       "       'citroen', 'honda', 'fiat', 'mini', 'smart', 'hyundai',\n",
       "       'sonstige_autos', 'alfa_romeo', 'subaru', 'volvo', 'mitsubishi',\n",
       "       'kia', 'suzuki', 'lancia', 'toyota', 'chevrolet', 'dacia',\n",
       "       'daihatsu', 'trabant', 'saab', 'chrysler', 'jaguar', 'daewoo',\n",
       "       'porsche', 'rover', 'land_rover', 'lada'], dtype=object)"
      ]
     },
     "execution_count": 27,
     "metadata": {},
     "output_type": "execute_result"
    }
   ],
   "source": [
    "data['brand'].unique()"
   ]
  },
  {
   "cell_type": "code",
   "execution_count": 28,
   "id": "22b022fd",
   "metadata": {},
   "outputs": [
    {
     "data": {
      "text/plain": [
       "array([nan, 'yes', 'no'], dtype=object)"
      ]
     },
     "execution_count": 28,
     "metadata": {},
     "output_type": "execute_result"
    }
   ],
   "source": [
    "data['not_repaired'].unique()"
   ]
  },
  {
   "cell_type": "markdown",
   "id": "d2eefb3f",
   "metadata": {},
   "source": [
    "Заполним отсутсвующие данные в этом столбце. Предположим, что если машина старше 3 лет, в ремонте она  была."
   ]
  },
  {
   "cell_type": "code",
   "execution_count": 30,
   "id": "8213c0eb",
   "metadata": {},
   "outputs": [],
   "source": [
    "def replace_not_repaired(row):\n",
    "    \n",
    "    if row['not_repaired'] == 'yes':\n",
    "        new_not_repaired = 1\n",
    "    elif row['not_repaired'] == 'no':\n",
    "        new_not_repaired = 0\n",
    "    else:\n",
    "        if row['registration_year'] > 2014:\n",
    "            new_not_repaired = 1\n",
    "        else:\n",
    "            new_not_repaired = 0\n",
    "        \n",
    "    return  new_not_repaired\n",
    "\n",
    "data['not_repaired'] = data.apply(replace_not_repaired, axis=1)"
   ]
  },
  {
   "cell_type": "code",
   "execution_count": 31,
   "id": "14a0658f",
   "metadata": {},
   "outputs": [
    {
     "data": {
      "text/plain": [
       "array([0], dtype=int64)"
      ]
     },
     "execution_count": 31,
     "metadata": {},
     "output_type": "execute_result"
    }
   ],
   "source": [
    "data['number_of_pictures'].unique()"
   ]
  },
  {
   "cell_type": "markdown",
   "id": "4f075220",
   "metadata": {},
   "source": [
    "Столбец неинформативен, одни нули."
   ]
  },
  {
   "cell_type": "code",
   "execution_count": 32,
   "id": "682e4be2",
   "metadata": {},
   "outputs": [
    {
     "data": {
      "text/plain": [
       "array([ 1067,  1068,  1069, ..., 99994, 99996, 99998], dtype=int64)"
      ]
     },
     "execution_count": 32,
     "metadata": {},
     "output_type": "execute_result"
    }
   ],
   "source": [
    "np.array(sorted(data['postal_code'].unique()))"
   ]
  },
  {
   "cell_type": "markdown",
   "id": "de3a536d",
   "metadata": {},
   "source": [
    "Четрырехзначные для Европы, или просто потерялись впереди нули. Индексы могут указать на регион."
   ]
  },
  {
   "cell_type": "markdown",
   "id": "cd68afc3",
   "metadata": {},
   "source": [
    "Посмотрим теперь на количество пропусков."
   ]
  },
  {
   "cell_type": "code",
   "execution_count": 33,
   "id": "592fe7e3",
   "metadata": {},
   "outputs": [
    {
     "data": {
      "text/html": [
       "<div>\n",
       "<style scoped>\n",
       "    .dataframe tbody tr th:only-of-type {\n",
       "        vertical-align: middle;\n",
       "    }\n",
       "\n",
       "    .dataframe tbody tr th {\n",
       "        vertical-align: top;\n",
       "    }\n",
       "\n",
       "    .dataframe thead th {\n",
       "        text-align: right;\n",
       "    }\n",
       "</style>\n",
       "<table border=\"1\" class=\"dataframe\">\n",
       "  <thead>\n",
       "    <tr style=\"text-align: right;\">\n",
       "      <th></th>\n",
       "      <th>index</th>\n",
       "      <th>value</th>\n",
       "      <th>persantage</th>\n",
       "    </tr>\n",
       "  </thead>\n",
       "  <tbody>\n",
       "    <tr>\n",
       "      <th>6</th>\n",
       "      <td>model</td>\n",
       "      <td>19216</td>\n",
       "      <td>5.4</td>\n",
       "    </tr>\n",
       "  </tbody>\n",
       "</table>\n",
       "</div>"
      ],
      "text/plain": [
       "   index  value  persantage\n",
       "6  model  19216         5.4"
      ]
     },
     "metadata": {},
     "output_type": "display_data"
    }
   ],
   "source": [
    "omissions = data.isna().sum()\n",
    "omissions = omissions.to_frame().reset_index() # сконвертим series в датафрейм\n",
    "omissions = omissions.rename(columns= {0: 'value'})\n",
    "#omissions.index.name = 'index'\n",
    "omissions['persantage'] = (omissions['value']/len(data)*100).round(1) #выведем процент пропусков \n",
    "display(omissions[omissions['persantage']!=0])"
   ]
  },
  {
   "cell_type": "code",
   "execution_count": 34,
   "id": "4339697d",
   "metadata": {},
   "outputs": [
    {
     "data": {
      "text/plain": [
       "(352684, 16)"
      ]
     },
     "execution_count": 34,
     "metadata": {},
     "output_type": "execute_result"
    }
   ],
   "source": [
    "data.shape"
   ]
  },
  {
   "cell_type": "markdown",
   "id": "9c2874c7",
   "metadata": {},
   "source": [
    "Удалим эти 5% данных без модели."
   ]
  },
  {
   "cell_type": "code",
   "execution_count": 35,
   "id": "fd5b9f82",
   "metadata": {},
   "outputs": [
    {
     "data": {
      "text/plain": [
       "(333468, 16)"
      ]
     },
     "execution_count": 35,
     "metadata": {},
     "output_type": "execute_result"
    }
   ],
   "source": [
    "data = data.dropna().reset_index(drop=True)\n",
    "data.shape"
   ]
  },
  {
   "cell_type": "markdown",
   "id": "e607a2fe",
   "metadata": {},
   "source": [
    "Посмотрим на распределение целевого признака."
   ]
  },
  {
   "cell_type": "code",
   "execution_count": 36,
   "id": "64671840",
   "metadata": {},
   "outputs": [
    {
     "data": {
      "image/png": "[encoded data removed]",
      "text/plain": [
       "<Figure size 432x288 with 1 Axes>"
      ]
     },
     "metadata": {
      "needs_background": "light"
     },
     "output_type": "display_data"
    }
   ],
   "source": [
    "plt.xlabel('Цена')\n",
    "#plt.xlim(0,2000)\n",
    "data['price'].plot(kind='hist', bins=100, title='Распределение признака в датасете')\n",
    "plt.show()"
   ]
  },
  {
   "cell_type": "markdown",
   "id": "96278519",
   "metadata": {},
   "source": [
    "Как видно, очень низкие цены не являются выбросами. Возможно, даные авто продаются на запчасти."
   ]
  },
  {
   "cell_type": "markdown",
   "id": "7403493e",
   "metadata": {},
   "source": [
    "Посмотрим, сколько строк содержат цену меньше или равной 1 евро."
   ]
  },
  {
   "cell_type": "code",
   "execution_count": 38,
   "id": "863f536e",
   "metadata": {},
   "outputs": [
    {
     "data": {
      "text/plain": [
       "9418"
      ]
     },
     "execution_count": 38,
     "metadata": {},
     "output_type": "execute_result"
    }
   ],
   "source": [
    "len(data[data['price']<=1])"
   ]
  },
  {
   "cell_type": "markdown",
   "id": "74784ec5",
   "metadata": {},
   "source": [
    "Т.к. количество таких строк не очень велико относительно всего датасета, и не имея возможности уточнить природу этих выбросов, принимаем решение удалить эти значения."
   ]
  },
  {
   "cell_type": "code",
   "execution_count": 39,
   "id": "38332eb8",
   "metadata": {},
   "outputs": [
    {
     "data": {
      "text/plain": [
       "333468"
      ]
     },
     "execution_count": 39,
     "metadata": {},
     "output_type": "execute_result"
    }
   ],
   "source": [
    "len(data)"
   ]
  },
  {
   "cell_type": "code",
   "execution_count": 41,
   "id": "af77747f",
   "metadata": {},
   "outputs": [
    {
     "data": {
      "text/plain": [
       "324050"
      ]
     },
     "execution_count": 41,
     "metadata": {},
     "output_type": "execute_result"
    }
   ],
   "source": [
    "data = data[data['price']>1].reset_index(drop=True)\n",
    "len(data)"
   ]
  },
  {
   "cell_type": "markdown",
   "id": "8539694a",
   "metadata": {},
   "source": [
    "Удалим столбцы, не представляющие инетереса для построения модели."
   ]
  },
  {
   "cell_type": "code",
   "execution_count": 42,
   "id": "628a1033",
   "metadata": {},
   "outputs": [],
   "source": [
    "data = data.drop(['registration_month','number_of_pictures','last_seen','date_created','postal_code','date_crawled'], axis=1)"
   ]
  },
  {
   "cell_type": "code",
   "execution_count": 43,
   "id": "107bfa4d",
   "metadata": {},
   "outputs": [
    {
     "data": {
      "text/html": [
       "<div>\n",
       "<style scoped>\n",
       "    .dataframe tbody tr th:only-of-type {\n",
       "        vertical-align: middle;\n",
       "    }\n",
       "\n",
       "    .dataframe tbody tr th {\n",
       "        vertical-align: top;\n",
       "    }\n",
       "\n",
       "    .dataframe thead th {\n",
       "        text-align: right;\n",
       "    }\n",
       "</style>\n",
       "<table border=\"1\" class=\"dataframe\">\n",
       "  <thead>\n",
       "    <tr style=\"text-align: right;\">\n",
       "      <th></th>\n",
       "      <th>price</th>\n",
       "      <th>vehicle_type</th>\n",
       "      <th>registration_year</th>\n",
       "      <th>gearbox</th>\n",
       "      <th>power</th>\n",
       "      <th>model</th>\n",
       "      <th>kilometer</th>\n",
       "      <th>fuel_type</th>\n",
       "      <th>brand</th>\n",
       "      <th>not_repaired</th>\n",
       "    </tr>\n",
       "  </thead>\n",
       "  <tbody>\n",
       "    <tr>\n",
       "      <th>0</th>\n",
       "      <td>480</td>\n",
       "      <td>unknown</td>\n",
       "      <td>1993</td>\n",
       "      <td>manual</td>\n",
       "      <td>95.592222</td>\n",
       "      <td>golf</td>\n",
       "      <td>150000</td>\n",
       "      <td>petrol</td>\n",
       "      <td>volkswagen</td>\n",
       "      <td>0</td>\n",
       "    </tr>\n",
       "    <tr>\n",
       "      <th>1</th>\n",
       "      <td>9800</td>\n",
       "      <td>suv</td>\n",
       "      <td>2004</td>\n",
       "      <td>auto</td>\n",
       "      <td>163.000000</td>\n",
       "      <td>grand</td>\n",
       "      <td>125000</td>\n",
       "      <td>gasoline</td>\n",
       "      <td>jeep</td>\n",
       "      <td>0</td>\n",
       "    </tr>\n",
       "    <tr>\n",
       "      <th>2</th>\n",
       "      <td>1500</td>\n",
       "      <td>small</td>\n",
       "      <td>2001</td>\n",
       "      <td>manual</td>\n",
       "      <td>75.000000</td>\n",
       "      <td>golf</td>\n",
       "      <td>150000</td>\n",
       "      <td>petrol</td>\n",
       "      <td>volkswagen</td>\n",
       "      <td>0</td>\n",
       "    </tr>\n",
       "    <tr>\n",
       "      <th>3</th>\n",
       "      <td>3600</td>\n",
       "      <td>small</td>\n",
       "      <td>2008</td>\n",
       "      <td>manual</td>\n",
       "      <td>69.000000</td>\n",
       "      <td>fabia</td>\n",
       "      <td>90000</td>\n",
       "      <td>gasoline</td>\n",
       "      <td>skoda</td>\n",
       "      <td>0</td>\n",
       "    </tr>\n",
       "    <tr>\n",
       "      <th>4</th>\n",
       "      <td>650</td>\n",
       "      <td>sedan</td>\n",
       "      <td>1995</td>\n",
       "      <td>manual</td>\n",
       "      <td>102.000000</td>\n",
       "      <td>3er</td>\n",
       "      <td>150000</td>\n",
       "      <td>petrol</td>\n",
       "      <td>bmw</td>\n",
       "      <td>1</td>\n",
       "    </tr>\n",
       "  </tbody>\n",
       "</table>\n",
       "</div>"
      ],
      "text/plain": [
       "   price vehicle_type  registration_year gearbox       power  model  \\\n",
       "0    480      unknown               1993  manual   95.592222   golf   \n",
       "1   9800          suv               2004    auto  163.000000  grand   \n",
       "2   1500        small               2001  manual   75.000000   golf   \n",
       "3   3600        small               2008  manual   69.000000  fabia   \n",
       "4    650        sedan               1995  manual  102.000000    3er   \n",
       "\n",
       "   kilometer fuel_type       brand  not_repaired  \n",
       "0     150000    petrol  volkswagen             0  \n",
       "1     125000  gasoline        jeep             0  \n",
       "2     150000    petrol  volkswagen             0  \n",
       "3      90000  gasoline       skoda             0  \n",
       "4     150000    petrol         bmw             1  "
      ]
     },
     "execution_count": 43,
     "metadata": {},
     "output_type": "execute_result"
    }
   ],
   "source": [
    "data.head()"
   ]
  },
  {
   "cell_type": "markdown",
   "id": "ab43a021",
   "metadata": {},
   "source": [
    "Посмотрим тип данных"
   ]
  },
  {
   "cell_type": "markdown",
   "id": "446bff0d",
   "metadata": {},
   "source": [
    "Заменим значения на более экономичные относительно использования памяти."
   ]
  },
  {
   "cell_type": "markdown",
   "id": "370bb286",
   "metadata": {},
   "source": [
    "Вывод: на данном шаге были изучены данный, проверены на пропуски, нулевые значения и выбросы.   \n",
    "Пропуски в типе кузова, коробки передач, тип топлива были заменены на значение 'unknown'. Пропуски в данных о ремонте были заменены на значения да или нет в зависимости от возраста машины. Нулевые значения в данных о мощности были заменены на средние значения по конкретной модели. Выбросы в годах, пробеге были удалены, так же как неизвестные модели.   \n",
    "В результате получили 324 тыс строк обработанных данных."
   ]
  },
  {
   "cell_type": "markdown",
   "id": "d9e17f32",
   "metadata": {},
   "source": [
    "## 2. Подготовка данных"
   ]
  },
  {
   "cell_type": "markdown",
   "id": "71f3f179",
   "metadata": {},
   "source": [
    "### 2.1 Изучение корреляции данных"
   ]
  },
  {
   "cell_type": "markdown",
   "id": "18e858b1",
   "metadata": {},
   "source": [
    "Для того, чтобы проверить корреляцию целевого признака со всеми параметрами, применим OrdinalEncoder к категориальным столбцам."
   ]
  },
  {
   "cell_type": "markdown",
   "id": "3ad4c049",
   "metadata": {},
   "source": [
    "Для моделей, основанных на деревьях, порядковое кодирование отлично подойдет. Для линейных стоит использовать прямое кодирование."
   ]
  },
  {
   "cell_type": "code",
   "execution_count": 44,
   "id": "64e995c8",
   "metadata": {},
   "outputs": [
    {
     "data": {
      "text/plain": [
       "(324050, 5)"
      ]
     },
     "execution_count": 44,
     "metadata": {},
     "output_type": "execute_result"
    }
   ],
   "source": [
    "data_categ = data[['fuel_type','gearbox','vehicle_type','brand','model']]\n",
    "encoder = OrdinalEncoder()\n",
    "encoder.fit(data_categ)\n",
    "data_ordinal = pd.DataFrame(encoder.transform(data_categ), columns=data_categ.columns)\n",
    "data_ordinal.shape"
   ]
  },
  {
   "cell_type": "markdown",
   "id": "1c408dab",
   "metadata": {},
   "source": [
    "Присоединим закодированные признаки к датафрему."
   ]
  },
  {
   "cell_type": "code",
   "execution_count": 45,
   "id": "bee764fd",
   "metadata": {},
   "outputs": [
    {
     "data": {
      "text/html": [
       "<div>\n",
       "<style scoped>\n",
       "    .dataframe tbody tr th:only-of-type {\n",
       "        vertical-align: middle;\n",
       "    }\n",
       "\n",
       "    .dataframe tbody tr th {\n",
       "        vertical-align: top;\n",
       "    }\n",
       "\n",
       "    .dataframe thead th {\n",
       "        text-align: right;\n",
       "    }\n",
       "</style>\n",
       "<table border=\"1\" class=\"dataframe\">\n",
       "  <thead>\n",
       "    <tr style=\"text-align: right;\">\n",
       "      <th></th>\n",
       "      <th>price</th>\n",
       "      <th>registration_year</th>\n",
       "      <th>power</th>\n",
       "      <th>kilometer</th>\n",
       "      <th>not_repaired</th>\n",
       "      <th>fuel_type</th>\n",
       "      <th>gearbox</th>\n",
       "      <th>vehicle_type</th>\n",
       "      <th>brand</th>\n",
       "      <th>model</th>\n",
       "    </tr>\n",
       "  </thead>\n",
       "  <tbody>\n",
       "    <tr>\n",
       "      <th>0</th>\n",
       "      <td>480</td>\n",
       "      <td>1993</td>\n",
       "      <td>95.592222</td>\n",
       "      <td>150000</td>\n",
       "      <td>0</td>\n",
       "      <td>6.0</td>\n",
       "      <td>1.0</td>\n",
       "      <td>7.0</td>\n",
       "      <td>37.0</td>\n",
       "      <td>116.0</td>\n",
       "    </tr>\n",
       "    <tr>\n",
       "      <th>1</th>\n",
       "      <td>9800</td>\n",
       "      <td>2004</td>\n",
       "      <td>163.000000</td>\n",
       "      <td>125000</td>\n",
       "      <td>0</td>\n",
       "      <td>2.0</td>\n",
       "      <td>0.0</td>\n",
       "      <td>6.0</td>\n",
       "      <td>14.0</td>\n",
       "      <td>117.0</td>\n",
       "    </tr>\n",
       "    <tr>\n",
       "      <th>2</th>\n",
       "      <td>1500</td>\n",
       "      <td>2001</td>\n",
       "      <td>75.000000</td>\n",
       "      <td>150000</td>\n",
       "      <td>0</td>\n",
       "      <td>6.0</td>\n",
       "      <td>1.0</td>\n",
       "      <td>5.0</td>\n",
       "      <td>37.0</td>\n",
       "      <td>116.0</td>\n",
       "    </tr>\n",
       "    <tr>\n",
       "      <th>3</th>\n",
       "      <td>3600</td>\n",
       "      <td>2008</td>\n",
       "      <td>69.000000</td>\n",
       "      <td>90000</td>\n",
       "      <td>0</td>\n",
       "      <td>2.0</td>\n",
       "      <td>1.0</td>\n",
       "      <td>5.0</td>\n",
       "      <td>31.0</td>\n",
       "      <td>101.0</td>\n",
       "    </tr>\n",
       "    <tr>\n",
       "      <th>4</th>\n",
       "      <td>650</td>\n",
       "      <td>1995</td>\n",
       "      <td>102.000000</td>\n",
       "      <td>150000</td>\n",
       "      <td>1</td>\n",
       "      <td>6.0</td>\n",
       "      <td>1.0</td>\n",
       "      <td>4.0</td>\n",
       "      <td>2.0</td>\n",
       "      <td>11.0</td>\n",
       "    </tr>\n",
       "  </tbody>\n",
       "</table>\n",
       "</div>"
      ],
      "text/plain": [
       "   price  registration_year       power  kilometer  not_repaired  fuel_type  \\\n",
       "0    480               1993   95.592222     150000             0        6.0   \n",
       "1   9800               2004  163.000000     125000             0        2.0   \n",
       "2   1500               2001   75.000000     150000             0        6.0   \n",
       "3   3600               2008   69.000000      90000             0        2.0   \n",
       "4    650               1995  102.000000     150000             1        6.0   \n",
       "\n",
       "   gearbox  vehicle_type  brand  model  \n",
       "0      1.0           7.0   37.0  116.0  \n",
       "1      0.0           6.0   14.0  117.0  \n",
       "2      1.0           5.0   37.0  116.0  \n",
       "3      1.0           5.0   31.0  101.0  \n",
       "4      1.0           4.0    2.0   11.0  "
      ]
     },
     "execution_count": 45,
     "metadata": {},
     "output_type": "execute_result"
    }
   ],
   "source": [
    "df_ordinal = data.drop(['fuel_type','gearbox','vehicle_type','brand','model'], axis=1)\n",
    "df_ordinal = df_ordinal.join(data_ordinal)\n",
    "df_ordinal.head()"
   ]
  },
  {
   "cell_type": "code",
   "execution_count": 46,
   "id": "883f9ab7",
   "metadata": {
    "scrolled": true
   },
   "outputs": [
    {
     "data": {
      "text/plain": [
       "kilometer           -0.370734\n",
       "fuel_type           -0.302393\n",
       "gearbox             -0.261152\n",
       "not_repaired        -0.204382\n",
       "brand               -0.113225\n",
       "vehicle_type        -0.108133\n",
       "model               -0.024222\n",
       "registration_year    0.418570\n",
       "power                0.513035\n",
       "price                1.000000\n",
       "Name: price, dtype: float64"
      ]
     },
     "execution_count": 46,
     "metadata": {},
     "output_type": "execute_result"
    }
   ],
   "source": [
    "correlations_data = df_ordinal.corr()['price'].sort_values()\n",
    "correlations_data"
   ]
  },
  {
   "cell_type": "markdown",
   "id": "739e14a7",
   "metadata": {},
   "source": [
    "Обнаружены неплохие показатели корреляции с целевым признаком: 2 умеренных положительных связи и 2 умеренных отрицательных. Связь с признаком \"модель\" почти нулевая, с признаками бренда и типа кузова - слабая.  \n",
    "На основании корреляции, исключим модель из обучающих признаков."
   ]
  },
  {
   "cell_type": "markdown",
   "id": "4fdc84b4",
   "metadata": {},
   "source": [
    "### 2.2 Кодирование данных прямым методом"
   ]
  },
  {
   "cell_type": "markdown",
   "id": "e5fd079e",
   "metadata": {},
   "source": [
    "Отберём 6 лучших по корреляции признаков и применим  технику кодировки OHE к категориальным столбцам."
   ]
  },
  {
   "cell_type": "code",
   "execution_count": 48,
   "id": "153cae85",
   "metadata": {},
   "outputs": [
    {
     "name": "stdout",
     "output_type": "stream",
     "text": [
      "   fuel_type_electric  fuel_type_gasoline  fuel_type_hybrid  fuel_type_lpg  \\\n",
      "0                   0                   0                 0              0   \n",
      "1                   0                   1                 0              0   \n",
      "2                   0                   0                 0              0   \n",
      "\n",
      "   fuel_type_other  fuel_type_petrol  fuel_type_unknown  gearbox_manual  \\\n",
      "0                0                 1                  0               1   \n",
      "1                0                 0                  0               0   \n",
      "2                0                 1                  0               1   \n",
      "\n",
      "   gearbox_unknown  \n",
      "0                0  \n",
      "1                0  \n",
      "2                0  \n"
     ]
    }
   ],
   "source": [
    "data_ohe = pd.get_dummies(data[['fuel_type','gearbox']], drop_first=True)\n",
    "print(data_ohe.head(3))"
   ]
  },
  {
   "cell_type": "markdown",
   "id": "a6ee8817",
   "metadata": {},
   "source": [
    "Присоединим закодированные признаки к датафрему."
   ]
  },
  {
   "cell_type": "code",
   "execution_count": 50,
   "id": "3610d4b9",
   "metadata": {},
   "outputs": [
    {
     "name": "stdout",
     "output_type": "stream",
     "text": [
      "(324050, 14)\n"
     ]
    },
    {
     "data": {
      "text/html": [
       "<div>\n",
       "<style scoped>\n",
       "    .dataframe tbody tr th:only-of-type {\n",
       "        vertical-align: middle;\n",
       "    }\n",
       "\n",
       "    .dataframe tbody tr th {\n",
       "        vertical-align: top;\n",
       "    }\n",
       "\n",
       "    .dataframe thead th {\n",
       "        text-align: right;\n",
       "    }\n",
       "</style>\n",
       "<table border=\"1\" class=\"dataframe\">\n",
       "  <thead>\n",
       "    <tr style=\"text-align: right;\">\n",
       "      <th></th>\n",
       "      <th>price</th>\n",
       "      <th>registration_year</th>\n",
       "      <th>power</th>\n",
       "      <th>kilometer</th>\n",
       "      <th>not_repaired</th>\n",
       "      <th>fuel_type_electric</th>\n",
       "      <th>fuel_type_gasoline</th>\n",
       "      <th>fuel_type_hybrid</th>\n",
       "      <th>fuel_type_lpg</th>\n",
       "      <th>fuel_type_other</th>\n",
       "      <th>fuel_type_petrol</th>\n",
       "      <th>fuel_type_unknown</th>\n",
       "      <th>gearbox_manual</th>\n",
       "      <th>gearbox_unknown</th>\n",
       "    </tr>\n",
       "  </thead>\n",
       "  <tbody>\n",
       "    <tr>\n",
       "      <th>0</th>\n",
       "      <td>480</td>\n",
       "      <td>1993</td>\n",
       "      <td>95.592222</td>\n",
       "      <td>150000</td>\n",
       "      <td>0</td>\n",
       "      <td>0</td>\n",
       "      <td>0</td>\n",
       "      <td>0</td>\n",
       "      <td>0</td>\n",
       "      <td>0</td>\n",
       "      <td>1</td>\n",
       "      <td>0</td>\n",
       "      <td>1</td>\n",
       "      <td>0</td>\n",
       "    </tr>\n",
       "    <tr>\n",
       "      <th>1</th>\n",
       "      <td>9800</td>\n",
       "      <td>2004</td>\n",
       "      <td>163.000000</td>\n",
       "      <td>125000</td>\n",
       "      <td>0</td>\n",
       "      <td>0</td>\n",
       "      <td>1</td>\n",
       "      <td>0</td>\n",
       "      <td>0</td>\n",
       "      <td>0</td>\n",
       "      <td>0</td>\n",
       "      <td>0</td>\n",
       "      <td>0</td>\n",
       "      <td>0</td>\n",
       "    </tr>\n",
       "    <tr>\n",
       "      <th>2</th>\n",
       "      <td>1500</td>\n",
       "      <td>2001</td>\n",
       "      <td>75.000000</td>\n",
       "      <td>150000</td>\n",
       "      <td>0</td>\n",
       "      <td>0</td>\n",
       "      <td>0</td>\n",
       "      <td>0</td>\n",
       "      <td>0</td>\n",
       "      <td>0</td>\n",
       "      <td>1</td>\n",
       "      <td>0</td>\n",
       "      <td>1</td>\n",
       "      <td>0</td>\n",
       "    </tr>\n",
       "    <tr>\n",
       "      <th>3</th>\n",
       "      <td>3600</td>\n",
       "      <td>2008</td>\n",
       "      <td>69.000000</td>\n",
       "      <td>90000</td>\n",
       "      <td>0</td>\n",
       "      <td>0</td>\n",
       "      <td>1</td>\n",
       "      <td>0</td>\n",
       "      <td>0</td>\n",
       "      <td>0</td>\n",
       "      <td>0</td>\n",
       "      <td>0</td>\n",
       "      <td>1</td>\n",
       "      <td>0</td>\n",
       "    </tr>\n",
       "    <tr>\n",
       "      <th>4</th>\n",
       "      <td>650</td>\n",
       "      <td>1995</td>\n",
       "      <td>102.000000</td>\n",
       "      <td>150000</td>\n",
       "      <td>1</td>\n",
       "      <td>0</td>\n",
       "      <td>0</td>\n",
       "      <td>0</td>\n",
       "      <td>0</td>\n",
       "      <td>0</td>\n",
       "      <td>1</td>\n",
       "      <td>0</td>\n",
       "      <td>1</td>\n",
       "      <td>0</td>\n",
       "    </tr>\n",
       "  </tbody>\n",
       "</table>\n",
       "</div>"
      ],
      "text/plain": [
       "   price  registration_year       power  kilometer  not_repaired  \\\n",
       "0    480               1993   95.592222     150000             0   \n",
       "1   9800               2004  163.000000     125000             0   \n",
       "2   1500               2001   75.000000     150000             0   \n",
       "3   3600               2008   69.000000      90000             0   \n",
       "4    650               1995  102.000000     150000             1   \n",
       "\n",
       "   fuel_type_electric  fuel_type_gasoline  fuel_type_hybrid  fuel_type_lpg  \\\n",
       "0                   0                   0                 0              0   \n",
       "1                   0                   1                 0              0   \n",
       "2                   0                   0                 0              0   \n",
       "3                   0                   1                 0              0   \n",
       "4                   0                   0                 0              0   \n",
       "\n",
       "   fuel_type_other  fuel_type_petrol  fuel_type_unknown  gearbox_manual  \\\n",
       "0                0                 1                  0               1   \n",
       "1                0                 0                  0               0   \n",
       "2                0                 1                  0               1   \n",
       "3                0                 0                  0               1   \n",
       "4                0                 1                  0               1   \n",
       "\n",
       "   gearbox_unknown  \n",
       "0                0  \n",
       "1                0  \n",
       "2                0  \n",
       "3                0  \n",
       "4                0  "
      ]
     },
     "execution_count": 50,
     "metadata": {},
     "output_type": "execute_result"
    }
   ],
   "source": [
    "df = data.drop(['fuel_type','gearbox','vehicle_type','brand','model'], axis=1)\n",
    "df = df.join(data_ohe)\n",
    "print(df_ohe.shape)\n",
    "df.head()"
   ]
  },
  {
   "cell_type": "markdown",
   "id": "d0bd37e9",
   "metadata": {},
   "source": [
    "### 2.3 Разделение данных на  выборки и выделение признаков"
   ]
  },
  {
   "cell_type": "markdown",
   "id": "bce39365",
   "metadata": {},
   "source": [
    "Разделим датасет на обучающую, валидационную и тестовую выборки в отношении 60:20:20"
   ]
  },
  {
   "cell_type": "code",
   "execution_count": 51,
   "id": "53ab509c",
   "metadata": {},
   "outputs": [
    {
     "data": {
      "text/plain": [
       "((194430, 13), (64810, 13), (64810, 13))"
      ]
     },
     "execution_count": 51,
     "metadata": {},
     "output_type": "execute_result"
    }
   ],
   "source": [
    "target = df['price']\n",
    "features = df.drop('price', axis=1)\n",
    "\n",
    "features_train, features_valid, target_train, target_valid = train_test_split(\n",
    "    features, target, test_size=0.4, random_state=12345)\n",
    "\n",
    "features_valid, features_test, target_valid, target_test = train_test_split(\n",
    "    features_valid, target_valid, test_size=0.5, random_state=12345)\n",
    "\n",
    "features_train.shape, features_valid.shape, features_test.shape # проверим размеры получившихся выборок"
   ]
  },
  {
   "cell_type": "markdown",
   "id": "eac10649",
   "metadata": {},
   "source": [
    "### 2.4 Масштабирование признаков"
   ]
  },
  {
   "cell_type": "code",
   "execution_count": 52,
   "id": "3de12f12",
   "metadata": {},
   "outputs": [
    {
     "name": "stdout",
     "output_type": "stream",
     "text": [
      "        registration_year     power  kilometer  not_repaired  \\\n",
      "152774           0.971014  0.277987   1.000000             1   \n",
      "137358           0.956522  0.147623   1.000000             1   \n",
      "58283            0.884058  0.241886   0.310345             0   \n",
      "197393           0.797101  0.201774   1.000000             0   \n",
      "237502           0.608696  0.171690   1.000000             0   \n",
      "\n",
      "        fuel_type_electric  fuel_type_gasoline  fuel_type_hybrid  \\\n",
      "152774                   0                   0                 0   \n",
      "137358                   0                   0                 0   \n",
      "58283                    0                   0                 0   \n",
      "197393                   0                   0                 0   \n",
      "237502                   0                   0                 0   \n",
      "\n",
      "        fuel_type_lpg  fuel_type_other  fuel_type_petrol  fuel_type_unknown  \\\n",
      "152774              0                0                 0                  1   \n",
      "137358              0                0                 1                  0   \n",
      "58283               0                0                 1                  0   \n",
      "197393              0                0                 1                  0   \n",
      "237502              0                0                 1                  0   \n",
      "\n",
      "        gearbox_manual  gearbox_unknown  \n",
      "152774               1                0  \n",
      "137358               1                0  \n",
      "58283                1                0  \n",
      "197393               1                0  \n",
      "237502               1                0  \n"
     ]
    },
    {
     "name": "stderr",
     "output_type": "stream",
     "text": [
      "C:\\Your_user\\lib\\site-packages\\pandas\\core\\frame.py:3678: SettingWithCopyWarning: \n",
      "A value is trying to be set on a copy of a slice from a DataFrame.\n",
      "Try using .loc[row_indexer,col_indexer] = value instead\n",
      "\n",
      "See the caveats in the documentation: https://pandas.pydata.org/pandas-docs/stable/user_guide/indexing.html#returning-a-view-versus-a-copy\n",
      "  self[col] = igetitem(value, i)\n"
     ]
    }
   ],
   "source": [
    "numeric = ['registration_year', 'power', 'kilometer']\n",
    "\n",
    "scaler = MinMaxScaler(feature_range=(0, 1))\n",
    "scaler.fit(features_train[numeric])\n",
    "\n",
    "features_train[numeric] = scaler.transform(features_train[numeric])\n",
    "features_valid[numeric] = scaler.transform(features_valid[numeric])\n",
    "features_test[numeric] = scaler.transform(features_test[numeric])\n",
    "pd.options.mode.chained_assignment = None\n",
    "print(features_train.head())"
   ]
  },
  {
   "cell_type": "markdown",
   "id": "86ac3894",
   "metadata": {},
   "source": [
    "Выборки подготовлены."
   ]
  },
  {
   "cell_type": "markdown",
   "id": "e12ef264",
   "metadata": {},
   "source": [
    "## 3. Обучение разных моделей"
   ]
  },
  {
   "cell_type": "code",
   "execution_count": 53,
   "id": "44624131",
   "metadata": {},
   "outputs": [],
   "source": [
    "STATE = 12345 # добавим постоянную величину для случайного статуса"
   ]
  },
  {
   "cell_type": "markdown",
   "id": "11f54908",
   "metadata": {},
   "source": [
    "### 3.1 Линейная регрессия"
   ]
  },
  {
   "cell_type": "code",
   "execution_count": 54,
   "id": "4aac59b6",
   "metadata": {},
   "outputs": [
    {
     "name": "stdout",
     "output_type": "stream",
     "text": [
      "RMSE = 2932.8853934707968\n",
      "Wall time: 95.4 ms\n"
     ]
    }
   ],
   "source": [
    "%%time\n",
    "model_regression = LinearRegression()\n",
    "model_regression.fit(features_train,target_train)\n",
    "predicted_valid = model_regression.predict(features_valid)\n",
    "mse = mean_squared_error(target_valid,predicted_valid)\n",
    "\n",
    "print(\"RMSE =\", mse ** 0.5)"
   ]
  },
  {
   "cell_type": "markdown",
   "id": "7a3108f2",
   "metadata": {},
   "source": [
    "### 3.2 Дерево решений"
   ]
  },
  {
   "cell_type": "markdown",
   "id": "2df641c2",
   "metadata": {},
   "source": [
    "Для деревьев входные данные подготовим на основе порядкового кодирования."
   ]
  },
  {
   "cell_type": "code",
   "execution_count": 59,
   "id": "0e71dca9",
   "metadata": {},
   "outputs": [
    {
     "name": "stdout",
     "output_type": "stream",
     "text": [
      "(194430, 6) (64810, 6) (64810, 6)\n",
      "        registration_year     power  kilometer  not_repaired  fuel_type  \\\n",
      "152774           0.971014  0.277987   1.000000             1        7.0   \n",
      "137358           0.956522  0.147623   1.000000             1        6.0   \n",
      "58283            0.884058  0.241886   0.310345             0        6.0   \n",
      "197393           0.797101  0.201774   1.000000             0        6.0   \n",
      "237502           0.608696  0.171690   1.000000             0        6.0   \n",
      "\n",
      "        gearbox  \n",
      "152774      1.0  \n",
      "137358      1.0  \n",
      "58283       1.0  \n",
      "197393      1.0  \n",
      "237502      1.0  \n"
     ]
    }
   ],
   "source": [
    "target_ord = df_ordinal['price']\n",
    "features_ord = df_ordinal.drop(['price', 'model', 'brand', 'vehicle_type' ],  axis=1) # удалим и некоррелирующие столбцы\n",
    "\n",
    "features_train_ord, features_valid_ord, target_train_ord, target_valid_ord = train_test_split(\n",
    "    features_ord, target_ord, test_size=0.4, random_state=12345)\n",
    "\n",
    "features_valid_ord, features_test_ord, target_valid_ord, target_test_ord = train_test_split(\n",
    "    features_valid_ord, target_valid_ord, test_size=0.5, random_state=12345)\n",
    "\n",
    "print(features_train_ord.shape, features_valid_ord.shape, features_test_ord.shape) # проверим размеры получившихся выборок\n",
    "\n",
    "# масштабируем\n",
    "scaler.fit(features_train_ord[numeric])\n",
    "\n",
    "features_train_ord[numeric] = scaler.transform(features_train_ord[numeric])\n",
    "features_valid_ord[numeric] = scaler.transform(features_valid_ord[numeric])\n",
    "features_test_ord[numeric] = scaler.transform(features_test_ord[numeric])\n",
    "pd.options.mode.chained_assignment = None\n",
    "\n",
    "print(features_train_ord.head())"
   ]
  },
  {
   "cell_type": "markdown",
   "id": "f65f9140",
   "metadata": {},
   "source": [
    "Подберём гиперпараметры для модели."
   ]
  },
  {
   "cell_type": "code",
   "execution_count": 60,
   "id": "19cb0769",
   "metadata": {},
   "outputs": [
    {
     "name": "stdout",
     "output_type": "stream",
     "text": [
      "Fitting 5 folds for each of 60 candidates, totalling 300 fits\n"
     ]
    },
    {
     "data": {
      "text/plain": [
       "{'max_depth': 14, 'min_samples_leaf': 11, 'min_samples_split': 2}"
      ]
     },
     "execution_count": 60,
     "metadata": {},
     "output_type": "execute_result"
    }
   ],
   "source": [
    "model_tree = DecisionTreeRegressor()\n",
    "parametrs = { 'max_depth': range (6,16, 2),\n",
    "              'min_samples_leaf': range (1,16,5),\n",
    "              'min_samples_split': range (2,12,3) }\n",
    "\n",
    "grid = GridSearchCV(model_tree, parametrs, cv=5, verbose=1)\n",
    "grid.fit(features_train_ord,target_train_ord)\n",
    "\n",
    "grid.best_params_\n",
    "#14 11 8 2088 433"
   ]
  },
  {
   "cell_type": "code",
   "execution_count": 62,
   "id": "6fb61f32",
   "metadata": {},
   "outputs": [
    {
     "name": "stdout",
     "output_type": "stream",
     "text": [
      "RMSE = 2024.4547899649763\n",
      "Wall time: 278 ms\n"
     ]
    }
   ],
   "source": [
    "%%time\n",
    "model_tree = DecisionTreeRegressor(random_state=STATE, max_depth=14, min_samples_leaf=11, min_samples_split=2)\n",
    "model_tree.fit(features_train_ord,target_train_ord)\n",
    "predicted_valid = model_tree.predict(features_valid_ord)\n",
    "mse = mean_squared_error(target_valid_ord,predicted_valid)\n",
    "\n",
    "print(\"RMSE =\", mse ** 0.5)"
   ]
  },
  {
   "cell_type": "markdown",
   "id": "ef93b4f8",
   "metadata": {},
   "source": [
    "### 3.3 Случайный лес"
   ]
  },
  {
   "cell_type": "code",
   "execution_count": 63,
   "id": "2832f83d",
   "metadata": {},
   "outputs": [
    {
     "name": "stdout",
     "output_type": "stream",
     "text": [
      "Fitting 5 folds for each of 54 candidates, totalling 270 fits\n"
     ]
    },
    {
     "data": {
      "text/plain": [
       "{'max_depth': 11,\n",
       " 'min_samples_leaf': 3,\n",
       " 'min_samples_split': 2,\n",
       " 'n_estimators': 40}"
      ]
     },
     "execution_count": 63,
     "metadata": {},
     "output_type": "execute_result"
    }
   ],
   "source": [
    "model_forest = RandomForestRegressor()\n",
    "parametrs = { 'n_estimators': range (10, 50, 15),\n",
    "              'max_depth': range (1,13, 5),\n",
    "              'min_samples_leaf': range (1,4),\n",
    "              'min_samples_split': range (2,10,4) }\n",
    "\n",
    "grid = GridSearchCV(model_forest, parametrs, cv=5, verbose=1)\n",
    "\n",
    "grid.fit(features_train_ord,target_train_ord)\n",
    "grid.best_params_\n",
    "# 11 3 6 40 2077 11"
   ]
  },
  {
   "cell_type": "code",
   "execution_count": 67,
   "id": "f08631b8",
   "metadata": {},
   "outputs": [
    {
     "name": "stdout",
     "output_type": "stream",
     "text": [
      "RMSE = 2004.9425934343296\n",
      "Wall time: 6.9 s\n"
     ]
    }
   ],
   "source": [
    "%%time\n",
    "model_forest = RandomForestRegressor(random_state=STATE, n_estimators=40, max_depth=11, min_samples_leaf=3, min_samples_split=2)\n",
    "model_forest.fit(features_train_ord, target_train_ord)\n",
    "predicted_valid = model_forest.predict(features_valid_ord)\n",
    "mse = mean_squared_error(target_valid_ord, predicted_valid)\n",
    "\n",
    "print(\"RMSE =\", mse ** 0.5)"
   ]
  },
  {
   "cell_type": "markdown",
   "id": "141bde15",
   "metadata": {},
   "source": [
    "### 3.4 Градиентный бустинг"
   ]
  },
  {
   "cell_type": "code",
   "execution_count": 69,
   "id": "d38b21c7",
   "metadata": {},
   "outputs": [
    {
     "name": "stdout",
     "output_type": "stream",
     "text": [
      "Fitting 5 folds for each of 72 candidates, totalling 360 fits\n"
     ]
    },
    {
     "data": {
      "text/plain": [
       "{'max_depth': 11,\n",
       " 'min_samples_leaf': 9,\n",
       " 'min_samples_split': 8,\n",
       " 'n_estimators': 60}"
      ]
     },
     "execution_count": 69,
     "metadata": {},
     "output_type": "execute_result"
    }
   ],
   "source": [
    "model_gbr = GradientBoostingRegressor()\n",
    "parametrs = { 'n_estimators': range(40, 70, 20),   \n",
    "              'max_depth': range(7,13, 2),\n",
    "              'min_samples_leaf': range(1,11,4),\n",
    "              'min_samples_split': range(2,12,3) }\n",
    "\n",
    "grid = GridSearchCV(model_gbr, parametrs, cv=5, verbose=1)\n",
    "grid.fit(features_train,target_train)\n",
    "\n",
    "grid.best_params_\n",
    "#60 3 1 8 2207 8"
   ]
  },
  {
   "cell_type": "code",
   "execution_count": 70,
   "id": "95558bf0",
   "metadata": {},
   "outputs": [
    {
     "name": "stdout",
     "output_type": "stream",
     "text": [
      "RMSE = 1914.119265472079\n",
      "Wall time: 24.4 s\n"
     ]
    }
   ],
   "source": [
    "%%time\n",
    "model_gbr = GradientBoostingRegressor(random_state=STATE,n_estimators=60, max_depth=11, min_samples_leaf=9, min_samples_split=8)\n",
    "model_gbr.fit(features_train, target_train)\n",
    "predicted_valid = model_gbr.predict(features_valid)\n",
    "mse = mean_squared_error(target_valid,predicted_valid)\n",
    "\n",
    "print(\"RMSE =\", mse ** 0.5)"
   ]
  },
  {
   "cell_type": "markdown",
   "id": "9e4eecf2",
   "metadata": {},
   "source": [
    "### 3.5 Регрессия LASSO"
   ]
  },
  {
   "cell_type": "code",
   "execution_count": 72,
   "id": "f7176682",
   "metadata": {},
   "outputs": [
    {
     "name": "stdout",
     "output_type": "stream",
     "text": [
      "RMSE = 2933.2153122568543\n",
      "Wall time: 1.41 s\n"
     ]
    }
   ],
   "source": [
    "%%time\n",
    "model_lasso = LassoCV()\n",
    "model_lasso.fit(features_train, target_train)\n",
    "predicted_valid = model_lasso.predict(features_valid)\n",
    "mse = mean_squared_error(target_valid,predicted_valid)\n",
    "\n",
    "print(\"RMSE =\", mse ** 0.5)"
   ]
  },
  {
   "cell_type": "markdown",
   "id": "b1e0ba31",
   "metadata": {},
   "source": [
    "### 3.6 Модель градиентного бустинга  LightGBM"
   ]
  },
  {
   "cell_type": "code",
   "execution_count": 76,
   "id": "9b830fb0",
   "metadata": {},
   "outputs": [
    {
     "name": "stdout",
     "output_type": "stream",
     "text": [
      "Fitting 2 folds for each of 24 candidates, totalling 48 fits\n"
     ]
    },
    {
     "data": {
      "text/plain": [
       "{'max_depth': -1, 'n_estimators': 100}"
      ]
     },
     "execution_count": 76,
     "metadata": {},
     "output_type": "execute_result"
    }
   ],
   "source": [
    "model_lgbm = LGBMRegressor()\n",
    "parametrs = { 'n_estimators': range(60, 110, 20),   \n",
    "              'max_depth': range(-1,14, 2)}\n",
    "\n",
    "grid = GridSearchCV(model_lgbm, parametrs, cv=2, verbose=1)\n",
    "grid.fit(features_train,target_train)\n",
    "\n",
    "grid.best_params_"
   ]
  },
  {
   "cell_type": "code",
   "execution_count": 74,
   "id": "78ba83ee",
   "metadata": {},
   "outputs": [
    {
     "name": "stdout",
     "output_type": "stream",
     "text": [
      "RMSE = 1983.893021932058\n",
      "Wall time: 818 ms\n"
     ]
    }
   ],
   "source": [
    "%%time\n",
    "model_lgbm = LGBMRegressor(n_estimators=100, max_depth= 10)\n",
    "model_lgbm.fit(features_train, target_train)\n",
    "predicted_valid = model_lgbm.predict(features_valid)\n",
    "mse = mean_squared_error(target_valid,predicted_valid)\n",
    "\n",
    "print(\"RMSE =\", mse ** 0.5)"
   ]
  },
  {
   "cell_type": "markdown",
   "id": "3cec4d48",
   "metadata": {},
   "source": [
    "Нами было обучено 6 разных моделей."
   ]
  },
  {
   "cell_type": "markdown",
   "id": "6438eacb",
   "metadata": {},
   "source": [
    "## 4 Проверка моделей на тестовой выборке"
   ]
  },
  {
   "cell_type": "markdown",
   "id": "14aaba2e",
   "metadata": {},
   "source": [
    "Проверим модели на тестовой выборке с замером времени "
   ]
  },
  {
   "cell_type": "code",
   "execution_count": 76,
   "id": "f7c05346",
   "metadata": {},
   "outputs": [
    {
     "name": "stdout",
     "output_type": "stream",
     "text": [
      "RMSE = 2001.6174791677252\n",
      "Wall time: 24.9 ms\n"
     ]
    }
   ],
   "source": [
    "%%time\n",
    "predicted_test = model_tree.predict(features_test_ord)\n",
    "mse = mean_squared_error(target_test_ord,predicted_test)\n",
    "print(\"RMSE =\", mse ** 0.5)"
   ]
  },
  {
   "cell_type": "code",
   "execution_count": 77,
   "id": "ddeb2980",
   "metadata": {},
   "outputs": [
    {
     "name": "stdout",
     "output_type": "stream",
     "text": [
      "RMSE = 1998.5994701901636\n",
      "Wall time: 268 ms\n"
     ]
    }
   ],
   "source": [
    "%%time\n",
    "predicted_test = model_forest.predict(features_test_ord)\n",
    "mse = mean_squared_error(target_test_ord,predicted_test)\n",
    "print(\"RMSE =\", mse ** 0.5)"
   ]
  },
  {
   "cell_type": "code",
   "execution_count": 78,
   "id": "e9cfab86",
   "metadata": {},
   "outputs": [
    {
     "name": "stdout",
     "output_type": "stream",
     "text": [
      "RMSE = 1981.106022947848\n",
      "Wall time: 199 ms\n"
     ]
    }
   ],
   "source": [
    "%%time\n",
    "predicted_test = model_lgbm.predict(features_test)\n",
    "mse = mean_squared_error(target_test,predicted_test)\n",
    "print(\"RMSE =\", mse ** 0.5)"
   ]
  },
  {
   "cell_type": "code",
   "execution_count": 79,
   "id": "c308a8c7",
   "metadata": {},
   "outputs": [
    {
     "name": "stdout",
     "output_type": "stream",
     "text": [
      "RMSE = 1912.937208767259\n",
      "Wall time: 284 ms\n"
     ]
    }
   ],
   "source": [
    "%%time\n",
    "predicted_test = model_gbr.predict(features_test)\n",
    "mse = mean_squared_error(target_test,predicted_test)\n",
    "print(\"RMSE =\", mse ** 0.5)"
   ]
  },
  {
   "cell_type": "code",
   "execution_count": 81,
   "id": "ce54fc01",
   "metadata": {},
   "outputs": [
    {
     "name": "stdout",
     "output_type": "stream",
     "text": [
      "\n",
      "Таблица сравнения характеристик моделей\n"
     ]
    },
    {
     "data": {
      "text/html": [
       "<div>\n",
       "<style scoped>\n",
       "    .dataframe tbody tr th:only-of-type {\n",
       "        vertical-align: middle;\n",
       "    }\n",
       "\n",
       "    .dataframe tbody tr th {\n",
       "        vertical-align: top;\n",
       "    }\n",
       "\n",
       "    .dataframe thead th {\n",
       "        text-align: right;\n",
       "    }\n",
       "</style>\n",
       "<table border=\"1\" class=\"dataframe\">\n",
       "  <thead>\n",
       "    <tr style=\"text-align: right;\">\n",
       "      <th></th>\n",
       "      <th>модель</th>\n",
       "      <th>качество предсказания</th>\n",
       "      <th>время обучения</th>\n",
       "      <th>скорость предсказания</th>\n",
       "    </tr>\n",
       "  </thead>\n",
       "  <tbody>\n",
       "    <tr>\n",
       "      <th>0</th>\n",
       "      <td>LinearRegression</td>\n",
       "      <td>2987</td>\n",
       "      <td>95</td>\n",
       "      <td>NaN</td>\n",
       "    </tr>\n",
       "    <tr>\n",
       "      <th>1</th>\n",
       "      <td>DecisionTreeRegressor</td>\n",
       "      <td>2024</td>\n",
       "      <td>278</td>\n",
       "      <td>25</td>\n",
       "    </tr>\n",
       "    <tr>\n",
       "      <th>2</th>\n",
       "      <td>RandomForestRegressor</td>\n",
       "      <td>2005</td>\n",
       "      <td>6900</td>\n",
       "      <td>268</td>\n",
       "    </tr>\n",
       "    <tr>\n",
       "      <th>3</th>\n",
       "      <td>GradientBoostingRegressor</td>\n",
       "      <td>1914</td>\n",
       "      <td>24400</td>\n",
       "      <td>284</td>\n",
       "    </tr>\n",
       "    <tr>\n",
       "      <th>4</th>\n",
       "      <td>LassoCV</td>\n",
       "      <td>2933</td>\n",
       "      <td>1410</td>\n",
       "      <td>NaN</td>\n",
       "    </tr>\n",
       "    <tr>\n",
       "      <th>5</th>\n",
       "      <td>LGBMRegressor</td>\n",
       "      <td>1983</td>\n",
       "      <td>818</td>\n",
       "      <td>199</td>\n",
       "    </tr>\n",
       "  </tbody>\n",
       "</table>\n",
       "</div>"
      ],
      "text/plain": [
       "                      модель  качество предсказания  время обучения  \\\n",
       "0           LinearRegression                   2987              95   \n",
       "1      DecisionTreeRegressor                   2024             278   \n",
       "2      RandomForestRegressor                   2005            6900   \n",
       "3  GradientBoostingRegressor                   1914           24400   \n",
       "4                    LassoCV                   2933            1410   \n",
       "5              LGBMRegressor                   1983             818   \n",
       "\n",
       "  скорость предсказания  \n",
       "0                   NaN  \n",
       "1                    25  \n",
       "2                   268  \n",
       "3                   284  \n",
       "4                   NaN  \n",
       "5                   199  "
      ]
     },
     "metadata": {},
     "output_type": "display_data"
    }
   ],
   "source": [
    "criteria = ['модель', 'качество предсказания', 'время обучения', 'скорость предсказания']\n",
    "df_compare = pd.DataFrame([['LinearRegression', 2987, 95, 'NaN' ],\n",
    "                           ['DecisionTreeRegressor', 2024, 278, 25],\n",
    "                           ['RandomForestRegressor', 2005, 6900, 268],\n",
    "                           ['GradientBoostingRegressor', 1914, 24400, 284],\n",
    "                           ['LassoCV', 2933, 1410, 'NaN'],\n",
    "                           ['LGBMRegressor', 1983, 818, 199]], columns=criteria)\n",
    "print('')\n",
    "print('Таблица сравнения характеристик моделей')\n",
    "display(df_compare)"
   ]
  },
  {
   "cell_type": "markdown",
   "id": "526ab42f",
   "metadata": {},
   "source": [
    "Из рассмотренных нами моделей наилучшее качество показала модель градиентного бустинга GradientBoostingRegressor. Однако эта модель демонстрирует самую высокую скорость обучения.  \n",
    "Четыре модели показали близкое и довольно хорошее качество предсказаний, из них самая быстрая модель по времени обучения - DecisionTreeRegressor.  \n",
    "Самая быстрая в скорости предсказания - DecisionTreeRegressor."
   ]
  },
  {
   "cell_type": "markdown",
   "id": "f6db674d",
   "metadata": {},
   "source": [
    "## Вывод"
   ]
  },
  {
   "cell_type": "markdown",
   "id": "cf34dd43",
   "metadata": {},
   "source": [
    "В результате исследования были получены следующие данные:\n",
    " - модели регрессии не показали приемелемого качества. Очевидно, для этих данных алгоритмы регрессии не подходят.\n",
    " - четыре модели с разными алгоритмами деревьев и градиентов демонстрируют приемлемое и близкое по метрике качество предсказаний. Это модели Дерево Решений, Случайный лес, модель Градиентного бустинга и LightGBM.\n",
    " - скорость обучения у LightGBM в три раза больше аналогичной у Дерева решений, но в 8 раз меньше, чем у Случайного Леса.\n",
    " - скорость и обучения, и предсказания у Дерева решений существенно ниже, чем у остальных моделей.  \n",
    " - GradientBoostingRegressor даёт самые точные предсказания, но в обучении является самой медленной моделью. По скорости предсказания модель близка к остальным моделям, кроме сверхбыстрого Дерева решений.\n",
    " \n",
    " Если качество модели - самое главное, следует выбрать самую точную модель - GradientBoostingRegressor.  \n",
    " Если качество модели важно, но и скорость имеет значение - больше подойдет модель LightGBM.   \n",
    " Если же важна именно скорость - выбираем DecisionTree. Её качество не значительно уступает остальным моделям, в то время как выигрыш в скорости весьма существенный."
   ]
  }
 ],
 "metadata": {
  "kernelspec": {
   "display_name": "Python 3 (ipykernel)",
   "language": "python",
   "name": "python3"
  },
  "language_info": {
   "codemirror_mode": {
    "name": "ipython",
    "version": 3
   },
   "file_extension": ".py",
   "mimetype": "text/x-python",
   "name": "python",
   "nbconvert_exporter": "python",
   "pygments_lexer": "ipython3",
   "version": "3.9.7"
  },
  "toc": {
   "base_numbering": 1,
   "nav_menu": {},
   "number_sections": false,
   "sideBar": true,
   "skip_h1_title": false,
   "title_cell": "Ход исследования",
   "title_sidebar": "Contents",
   "toc_cell": true,
   "toc_position": {
    "height": "calc(100% - 180px)",
    "left": "10px",
    "top": "150px",
    "width": "165px"
   },
   "toc_section_display": true,
   "toc_window_display": true
  }
 },
 "nbformat": 4,
 "nbformat_minor": 5
}
